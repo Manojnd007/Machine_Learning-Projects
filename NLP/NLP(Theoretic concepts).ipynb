{
 "cells": [
  {
   "cell_type": "markdown",
   "id": "d7e96d3c",
   "metadata": {},
   "source": [
    "### What is NLP\n",
    "Natural language processing is a subfield of linguistics, computer science, and artificical intelligence concerned with the interaction between humans and computer.\n",
    "`\n",
    "\n",
    "#### Need for NLP\n",
    "IT takes different forms such as speech or signing, they are distinguished from constructed and formal languages such as those used to program computers or to study logic."
   ]
  },
  {
   "cell_type": "markdown",
   "id": "039f51a0",
   "metadata": {},
   "source": [
    "##### Real world Applications\n",
    "\n",
    "1. Contextual Advertisements(Advertising to specific audiance)\n",
    "2. Email-clients (Span filtering, smart replay)\n",
    "3. Social Media (Removing adult content, opinion mining eg: Twitter)\n",
    "4. Search Engines\n",
    "5. Chatbots.\n",
    "\n",
    "\n",
    "##### Common NLP Tasks\n",
    "1. Text/Document classification.\n",
    "2. Sentiment Analysis.\n",
    "3. Information Retrieval.\n",
    "4. Parts of speech Tagging.\n",
    "5. Language Detection and machine translation (Deep learning is been used)\n",
    "6. Conversational Agents (Text based and speech based)\n",
    "7. knowledge Graph and QA systems( Eg: Prime minister of India)\n",
    "8. Text summarization.\n",
    "9. Topic modeling, text generation and text parsing(Break down of the text)\n",
    "10. Speech to text.\n",
    "\n",
    "\n"
   ]
  },
  {
   "cell_type": "markdown",
   "id": "d63eba4a",
   "metadata": {},
   "source": [
    "#### Approaches to NLP\n",
    "1. Heuristic Methods.\n",
    "To solve the problem just go with rule based approach that may not be optimised (Jugad karna)\n",
    "eg: Regular Expressions, wordnet, open mind common sense.\n",
    "\n",
    "2. Machine Learning Based Methods.\n",
    "Advantage: Rules are easily build by Machine learning algorithms.\n",
    "eg: Naive Bayes, Logistic Regression, SVM, LDA, Hidden Markov models\n",
    "\n",
    "3. Deep Learning methods.\n",
    "Advantage: Will hold the sequential content so data loss will not happen.\n",
    "eg: RNN(It will not hold a very long textual data),\n",
    "    LSTM(Long Short Term Memory)( This will hold a very long textual data and practically used in current world),\n",
    "    CNN, Transformers(Specific tasks can be higlighted), autoencoders.\n",
    "\n",
    "\n",
    "\n",
    "\n"
   ]
  },
  {
   "cell_type": "markdown",
   "id": "fe0bb1c1",
   "metadata": {},
   "source": [
    "#### Challenges in NLP\n",
    "1. Ambiguity.\n",
    "eg: I saw the boy on the beach with my binoculars.\n",
    "2. Contextual Words\n",
    "eg: I ran to the store because we ran out of milk.\n",
    "3. Colloquialisms and slang\n",
    "eg: Price of cake, pulling your leg\n",
    "4. Synonyms.\n",
    "5. Irony, Sarcasm and tonal diff.\n",
    "6. Spelling Errors.\n",
    "7. Creativity.\n",
    "eg: Poems, dialogue, scripts.\n",
    "8. Languages.\n"
   ]
  },
  {
   "cell_type": "markdown",
   "id": "f61d8655",
   "metadata": {},
   "source": [
    "#### What is NLP Pipeline\n",
    "NLP is a set of steps followed to build an end to end NLP software\n",
    "\n",
    "NLP software consists of the following steps:\n",
    "1. Data Acquisition\n",
    "2. Text Preparation :- a) Text cleanup b) Basic Preprocessing c) Advance Preprocessing\n",
    "3. Feature Engineering\n",
    "4. Modeling :- a) Model Building b) Evaluation.\n",
    "5. Deployment:-  Cloud deployment, monitoring and Model Update."
   ]
  },
  {
   "cell_type": "markdown",
   "id": "9ef2bc79",
   "metadata": {},
   "source": [
    "### Points to remember\n",
    "1. The above NLP pipeline is not universal but it will help in recommendation system and text analysis\n",
    "2. Deep learning pipeline are slightly different\n",
    "3. The pipeline is non-linear"
   ]
  },
  {
   "cell_type": "markdown",
   "id": "b7eef3d7",
   "metadata": {},
   "source": [
    "#### Data Acquisition:\n",
    "\n",
    "1. Data Available\n",
    "\n",
    "a) Start the text preprocessing if we have available data.\n",
    "b) We have in database or in s3 bucket.\n",
    "c) not enough data (We can use data augmentation or bigram friction or back translate or additional noise).\n",
    "\n",
    "2. Data Availabe with someone or some other team or company.\n",
    "\n",
    "a) Public data set.\n",
    "b) web scraping or api or pdf or image etc...\n",
    "\n",
    "3. Nobody has data.\n",
    "\n",
    "a) We inform product team/ Dev team to get the reviews to prepare our own data."
   ]
  },
  {
   "cell_type": "markdown",
   "id": "83f9cc35",
   "metadata": {},
   "source": [
    "#### Text Preparation\n",
    "\n",
    "1. Basic Cleaning.\n",
    "\n",
    "a) HTML tag cleaning(Use Regular expression).\n",
    "b) Emoji (Uni code normalization).\n",
    "c) Spelling checking (Use Text Blob.currect function).\n",
    "\n",
    "2. Basic Text Preprocessing.\n",
    "\n",
    "a) Basic or Fundmental preprocessing (Use Tokenization like SENTENCE_tokenize or WORD_tokenize)\n",
    "b) Optimal (Stopwords removal, stemming, Removal punctiation, Lower case convertion, language detection).\n",
    "\n",
    "3. Advance Text Preprocessing.\n",
    "\n",
    "a) Parts of Speech tagging.\n",
    "b) Parsing.\n",
    "c) Core reference resolution."
   ]
  },
  {
   "cell_type": "markdown",
   "id": "9ffb568c",
   "metadata": {},
   "source": [
    "#### Feature Engineering.\n",
    "\n",
    "(We have to be very open and feature engineering depends on problem statements and their is no perfect solution)\n",
    "\n",
    "1. Text vectorization.\n",
    "\n",
    "a) If we use Machine learning it's easy to interpret why we got this result and how we got the result.\n",
    "\n",
    "b) If we use Deeplearning interpretting is very difficult since the vectorization is done by neural networks so it will be difficult to find what has happened in which stage."
   ]
  },
  {
   "cell_type": "markdown",
   "id": "0b4b0d92",
   "metadata": {},
   "source": [
    "#### Modelling.\n",
    "1. Modelling\n",
    "\n",
    "(We can use the below techniques by checking AMOUNT_OF_DATA or by the NATURE_OF_PROBLEM)\n",
    "\n",
    "a. Heurastic approach(Jugad karna) (Note: We use Heurastic approach till today as a feature in the Machine learning modelling)\n",
    "\n",
    "b. ML algorithms (Neive base, xgboost etc..)\n",
    "\n",
    "c. Deep learning algorithm.( Transfer learning is most used and advanced technique)\n",
    "\n",
    "d. Cloud AI. (Already trained with data)\n",
    "\n",
    "2. Evaluation.\n",
    "\n",
    "a. Intrinsic Evaluation:-\n",
    "Checking the performance of the model like precession and recall or confusion metrix.\n",
    "\n",
    "b. Extrinsic Evaluation:- \n",
    "Evaluating in business perspective like how well our users are using this soultions/suggestions."
   ]
  },
  {
   "cell_type": "markdown",
   "id": "e73d402f",
   "metadata": {},
   "source": [
    "#### Depoyment\n",
    "\n",
    "1. Deployment:- APIs(Microservice, AWS or GCP or Azure)\n",
    "\n",
    "\n",
    "2. Monitoring:- Usually the dashboard will be used in the Azure or GCP or AWS where we can see the accuracy and precision and recall.\n",
    "\n",
    "\n",
    "3. Update Model:- We retrain and update the model with new data and do the deployment."
   ]
  },
  {
   "cell_type": "code",
   "execution_count": null,
   "id": "3ddbe2e4",
   "metadata": {},
   "outputs": [],
   "source": []
  },
  {
   "cell_type": "code",
   "execution_count": null,
   "id": "2a31f692",
   "metadata": {},
   "outputs": [],
   "source": []
  },
  {
   "cell_type": "code",
   "execution_count": null,
   "id": "48ee8aaf",
   "metadata": {},
   "outputs": [],
   "source": []
  }
 ],
 "metadata": {
  "kernelspec": {
   "display_name": "Python 3",
   "language": "python",
   "name": "python3"
  },
  "language_info": {
   "codemirror_mode": {
    "name": "ipython",
    "version": 3
   },
   "file_extension": ".py",
   "mimetype": "text/x-python",
   "name": "python",
   "nbconvert_exporter": "python",
   "pygments_lexer": "ipython3",
   "version": "3.8.8"
  }
 },
 "nbformat": 4,
 "nbformat_minor": 5
}
