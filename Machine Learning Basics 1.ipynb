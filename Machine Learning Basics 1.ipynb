{
 "cells": [
  {
   "cell_type": "markdown",
   "id": "ad2209f1",
   "metadata": {},
   "source": [
    "# Machine learning Basics\n"
   ]
  },
  {
   "cell_type": "markdown",
   "id": "c1bc1659",
   "metadata": {},
   "source": [
    "\n",
    "## Context:\n",
    "\n",
    "The purpose of this homework is to use simple machine learning techniques to fit the model against a given stress-strain dataset. Therefore, we use the experimental stress-strain data on vulcanised rubber published by Treloar [1]. These data are given in pairs of principal stretches $\\lambda_i$ and principal 1st-Piola-Kirchhoff (PK) stresses $P_i$ for different deformation modes, e.g. uniaxialtension (UN), equibiaxial tension (EB), and pure shear (PS). \n",
    "\n",
    "In order to determine an optimal set of material parameters for each model and a particular deformation mode, different techniques can be used which require in general the analytical $P_i(\\lambda_i)$-formulations. In the standard continuum mechanics the stresses and strains are related by a strain energy function $\\Psi$ that depends on a set of material parameters and invariants. However, in this homework we don't want to introduce these. Instead we use simplified linear and polynomial functions to fit the data and will come back to the strain-energy functions in a later exercise or if you are interested you can have a look in [2,3].\n",
    "\n",
    "[1] L.R.G. Treloar; Stress-strain data for vulcanised rubber under various types of deformation (1944) \\\n",
    "[2] P. Steinmann, M.Hossain and G. Possar; Hyperelastic models for rubber-like materials: consistent tangent operators and suitability for Treloar’s data (2011) \\\n",
    "[3] K. Linka et. al; Constitutive artificial neural networks: A fast and general approach to predictive data-driven constitutive modeling by deep learning (2020) \n",
    "\n",
    "## Libraries:\n",
    "Here, we will use `sklearn` and `statsmodels` packages for regression analysis. sklearn focuses on prediction analysis, while statsmodels provides detailed statistical output for linear regression analysis.\n",
    "\n",
    "\n",
    "Within this homework the following resources might be useful for you: pandas, numpy, sklearn (scikit-learn), statsmodels and seaborn\n",
    "| Library | Informations |\n",
    "| -------- | ------- |\n",
    "|`pandas`| data analysis tool for creating data structures. See https://pandas.pydata.org/ |\n",
    "|`numpy`| scientific computing package with more common Python functionalities. See https://numpy.org/ |\n",
    "|`scikit-learn`| tool package for predictive analysis. See https://scikit-learn.org/stable/ |\n",
    "|`statsmodels`| statistical computating package including descriptive statistics and estimation and inference for statistical models. See https://www.statsmodels.org/stable/index.html |\n",
    "|`seaborn`| data visualization library based on matplotlib. See https://seaborn.pydata.org/|"
   ]
  },
  {
   "cell_type": "markdown",
   "id": "26ca1e4e",
   "metadata": {},
   "source": [
    "## Where to find the data\n",
    "\n",
    "The datasets that we will use are available in Stud.IP in **exercise_1.zip** under **./data**: \n",
    "\n",
    "* treloar_uniaxial_tension.csv\n",
    "* treloar_equibiaxial_tension.csv \n",
    "* treloar_pure_shear.csv"
   ]
  },
  {
   "cell_type": "markdown",
   "id": "1b80c6dd",
   "metadata": {},
   "source": [
    "## Exercise 1: Linear Regression\n",
    "### Task 1\n",
    "1.1.  Load the dataset `treloar_uniaxial_tension.csv` containing data about the stresses and strains into memory using the library `pandas`. First, load the data directly from the file. Then, print the first $3$ rows of the dataset."
   ]
  },
  {
   "cell_type": "code",
   "execution_count": 1,
   "id": "d052236b",
   "metadata": {},
   "outputs": [],
   "source": [
    "# Import libraries\n",
    "import numpy as np\n",
    "import pandas as pd\n",
    "import seaborn as sns\n",
    "import matplotlib.pyplot as plt\n",
    "\n",
    "from sklearn import linear_model\n",
    "from sklearn.metrics import mean_squared_error, r2_score\n",
    "\n",
    "import statsmodels.api as sm"
   ]
  },
  {
   "cell_type": "code",
   "execution_count": 2,
   "id": "3701a165",
   "metadata": {},
   "outputs": [
    {
     "data": {
      "text/html": [
       "<div>\n",
       "<style scoped>\n",
       "    .dataframe tbody tr th:only-of-type {\n",
       "        vertical-align: middle;\n",
       "    }\n",
       "\n",
       "    .dataframe tbody tr th {\n",
       "        vertical-align: top;\n",
       "    }\n",
       "\n",
       "    .dataframe thead th {\n",
       "        text-align: right;\n",
       "    }\n",
       "</style>\n",
       "<table border=\"1\" class=\"dataframe\">\n",
       "  <thead>\n",
       "    <tr style=\"text-align: right;\">\n",
       "      <th></th>\n",
       "      <th>strains</th>\n",
       "      <th>stresses</th>\n",
       "    </tr>\n",
       "  </thead>\n",
       "  <tbody>\n",
       "    <tr>\n",
       "      <th>0</th>\n",
       "      <td>1.000000</td>\n",
       "      <td>0.000000</td>\n",
       "    </tr>\n",
       "    <tr>\n",
       "      <th>1</th>\n",
       "      <td>1.024232</td>\n",
       "      <td>0.028251</td>\n",
       "    </tr>\n",
       "    <tr>\n",
       "      <th>2</th>\n",
       "      <td>1.121145</td>\n",
       "      <td>0.131851</td>\n",
       "    </tr>\n",
       "  </tbody>\n",
       "</table>\n",
       "</div>"
      ],
      "text/plain": [
       "    strains  stresses\n",
       "0  1.000000  0.000000\n",
       "1  1.024232  0.028251\n",
       "2  1.121145  0.131851"
      ]
     },
     "execution_count": 2,
     "metadata": {},
     "output_type": "execute_result"
    }
   ],
   "source": [
    "# Load the *.csv data\n",
    "df_ut = pd.read_csv(\"./data/treloar_uniaxial_tension.csv\", delimiter=\" \")\n",
    "\n",
    "# View the first three rows of the loaded data\n",
    "df_ut.head(3)"
   ]
  },
  {
   "cell_type": "markdown",
   "id": "54620bdf",
   "metadata": {},
   "source": [
    "1.2. Visualize the data in a scatter plot where the stresses are plotted over the strains."
   ]
  },
  {
   "cell_type": "code",
   "execution_count": 9,
   "id": "1b9d59e6",
   "metadata": {},
   "outputs": [
    {
     "data": {
      "image/png": "[encoded data removed]",
      "text/plain": [
       "<Figure size 432x288 with 1 Axes>"
      ]
     },
     "metadata": {
      "needs_background": "light"
     },
     "output_type": "display_data"
    }
   ],
   "source": [
    "# We use for here for the visualization the seaborn library\n",
    "ax = sns.scatterplot(x =  df_ut[\"strains\"], y =  df_ut[\"stresses\"], data=df_ut)\n",
    "ax.set(xlabel=r'$\\lambda \\ [\\ ]$', ylabel=r'$1.  [MPa]$', title='Experimental data by Treloar')\n",
    "ax.set_xlim(1,8)\n",
    "plt.show()"
   ]
  },
  {
   "cell_type": "markdown",
   "id": "969036f0",
   "metadata": {},
   "source": [
    "1.3. Next, we want to perform a regression analysis to fit a linear model to the stress-strain data using the sklearn `LinearRegression()` function from the `scikit-learn` library. It employs the ordinary least squares (OLS) method for regression analysis. Apply the whole data for the training sets. Which linear function do you get from this linear regression analysis? "
   ]
  },
  {
   "cell_type": "code",
   "execution_count": 10,
   "id": "4a178532",
   "metadata": {},
   "outputs": [
    {
     "name": "stdout",
     "output_type": "stream",
     "text": [
      "Linear Equation: y = 7.4986e-01x + (-1.0952e+00)\n"
     ]
    }
   ],
   "source": [
    "# Extract the features and targets and use the whole data set as a training set\n",
    "stresses = df_ut['stresses']\n",
    "strains = df_ut['strains']\n",
    "\n",
    "# Reshape the strain data, since sklearn requires a 2D array for the features\n",
    "strains_train= np.array(strains).reshape(-1, 1) \n",
    "stresses_train = np.array(stresses)\n",
    "\n",
    "# Initiate and fit the regression model\n",
    "model = linear_model.LinearRegression()\n",
    "model.fit(strains_train, stresses_train)\n",
    "\n",
    "# Display regression coefficient (slope) and y-intercept\n",
    "print(\"Linear Equation: y = %.4ex + (%.4e)\"%(model.coef_[0], model.intercept_))"
   ]
  },
  {
   "cell_type": "markdown",
   "id": "796df758",
   "metadata": {},
   "source": [
    "1.4. There are different types of metrics such as mean squared error (MSE), R-squared error, or root mean squared error (RMSE). How are these metrics defined and for what are they used? Evaluate these metrics for the linear regression model in Task 1.3. using functionalities from `sklearn.metrics`."
   ]
  },
  {
   "cell_type": "code",
   "execution_count": 11,
   "id": "26cc758c",
   "metadata": {},
   "outputs": [
    {
     "name": "stdout",
     "output_type": "stream",
     "text": [
      "Mean squared error: 4.2552e-01\n",
      "Root mean squared error: 6.5232e-01\n",
      "R-squared value: 0.8887\n",
      "R-squared value: 0.8887\n"
     ]
    }
   ],
   "source": [
    "# Use the data to predict the entire set of data\n",
    "predictions = model.predict(strains_train)\n",
    "\n",
    "# Mean squared error (MSE)\n",
    "print(\"Mean squared error: %.4e\"%(mean_squared_error(stresses_train, predictions)))\n",
    "\n",
    "# Root mean squared error (RMSE)\n",
    "print(\"Root mean squared error: %.4e\"%(mean_squared_error(stresses_train, predictions, squared= False)))\n",
    "\n",
    "# R-squared value\n",
    "print(\"R-squared value: %.4f\"% r2_score(stresses_train, predictions))\n",
    "# or\n",
    "print(\"R-squared value: %.4f\"% model.score(strains_train, stresses_train))"
   ]
  },
  {
   "cell_type": "markdown",
   "id": "24354e74",
   "metadata": {},
   "source": [
    "### Error metrics\n",
    "\n",
    "**Mean squared error (MSE)**: \n",
    "* The MSE measures the amount of error in statistical models. It assesses the average squared difference between the observed and predicted values. \n",
    "\n",
    "* $\\text{MSE}(y, \\hat{y}) = \\frac{1}{n_\\text{samples}} \\sum_{i=0}^{n_\\text{samples} - 1} (y_i - \\hat{y}_i)^2.$\n",
    "\n",
    "\n",
    "**R-squared error (R2)**:\n",
    "* It is the percentage of the response variable variation that is explained by a linear model. It is always between $0$ and $1$. \n",
    "* R-squared is a statistical measure of how close the data are to the fitted regression line. In this example the R2- error is $0.887$. This means that $88.87\\%$ of the variation in the response variable (stress) can be explained by the predictor (strain) variable in the model.\n",
    "\n",
    "* $R^2(y, \\hat{y}) = 1 - \\frac{\\sum_{i=1}^{n} (y_i - \\hat{y}_i)^2}{\\sum_{i=1}^{n} (y_i - \\bar{y})^2} \\quad $ where $\\bar{y} = \\frac{1}{n} \\sum_{i=1}^{n} y_i$ and $\\sum_{i=1}^{n} (y_i - \\hat{y}_i)^2 = \\sum_{i=1}^{n} \\epsilon_i^2$\n",
    "\n",
    "\n",
    "**Root mean squared error (RMSE)**: \n",
    "* The RMSE measures the average difference between a statistical model’s predicted values and the actual values\n",
    "\n",
    "There are a lot more error metrics, that are also important. See https://scikit-learn.org/stable/modules/model_evaluation.html"
   ]
  },
  {
   "cell_type": "markdown",
   "id": "f074088a",
   "metadata": {},
   "source": [
    "1.5. If you’re interested in extracting a summary of a regression model in Python, the `statsmodels` library is often the better choice. This library provides different functionalities to view the model summary using the function `summary()`.\n",
    "\n",
    "Perform again a linear regression analysis but now using `OLS` (ordinary least squares) function. Display the resulting model summary. What linear function do you get from this regression analysis? What is the R-squared value of the model?\n",
    "\n",
    "**Hint:** Before you can use the OLS function, you need to explicitly add the y-intercept as it is not included in the model. This can be done by `sm.ad_constant(data)` to add a column of ones to an array."
   ]
  },
  {
   "cell_type": "code",
   "execution_count": 12,
   "id": "40fadac1",
   "metadata": {},
   "outputs": [
    {
     "data": {
      "text/html": [
       "<table class=\"simpletable\">\n",
       "<caption>OLS Regression Results</caption>\n",
       "<tr>\n",
       "  <th>Dep. Variable:</th>            <td>y</td>        <th>  R-squared:         </th> <td>   0.889</td>\n",
       "</tr>\n",
       "<tr>\n",
       "  <th>Model:</th>                   <td>OLS</td>       <th>  Adj. R-squared:    </th> <td>   0.884</td>\n",
       "</tr>\n",
       "<tr>\n",
       "  <th>Method:</th>             <td>Least Squares</td>  <th>  F-statistic:       </th> <td>   183.6</td>\n",
       "</tr>\n",
       "<tr>\n",
       "  <th>Date:</th>             <td>Wed, 22 Nov 2023</td> <th>  Prob (F-statistic):</th> <td>1.88e-12</td>\n",
       "</tr>\n",
       "<tr>\n",
       "  <th>Time:</th>                 <td>10:59:25</td>     <th>  Log-Likelihood:    </th> <td> -24.793</td>\n",
       "</tr>\n",
       "<tr>\n",
       "  <th>No. Observations:</th>      <td>    25</td>      <th>  AIC:               </th> <td>   53.59</td>\n",
       "</tr>\n",
       "<tr>\n",
       "  <th>Df Residuals:</th>          <td>    23</td>      <th>  BIC:               </th> <td>   56.02</td>\n",
       "</tr>\n",
       "<tr>\n",
       "  <th>Df Model:</th>              <td>     1</td>      <th>                     </th>     <td> </td>   \n",
       "</tr>\n",
       "<tr>\n",
       "  <th>Covariance Type:</th>      <td>nonrobust</td>    <th>                     </th>     <td> </td>   \n",
       "</tr>\n",
       "</table>\n",
       "<table class=\"simpletable\">\n",
       "<tr>\n",
       "    <td></td>       <th>coef</th>     <th>std err</th>      <th>t</th>      <th>P>|t|</th>  <th>[0.025</th>    <th>0.975]</th>  \n",
       "</tr>\n",
       "<tr>\n",
       "  <th>const</th> <td>   -1.0952</td> <td>    0.280</td> <td>   -3.918</td> <td> 0.001</td> <td>   -1.674</td> <td>   -0.517</td>\n",
       "</tr>\n",
       "<tr>\n",
       "  <th>x1</th>    <td>    0.7499</td> <td>    0.055</td> <td>   13.551</td> <td> 0.000</td> <td>    0.635</td> <td>    0.864</td>\n",
       "</tr>\n",
       "</table>\n",
       "<table class=\"simpletable\">\n",
       "<tr>\n",
       "  <th>Omnibus:</th>       <td> 1.587</td> <th>  Durbin-Watson:     </th> <td>   0.107</td>\n",
       "</tr>\n",
       "<tr>\n",
       "  <th>Prob(Omnibus):</th> <td> 0.452</td> <th>  Jarque-Bera (JB):  </th> <td>   0.917</td>\n",
       "</tr>\n",
       "<tr>\n",
       "  <th>Skew:</th>          <td> 0.469</td> <th>  Prob(JB):          </th> <td>   0.632</td>\n",
       "</tr>\n",
       "<tr>\n",
       "  <th>Kurtosis:</th>      <td> 3.023</td> <th>  Cond. No.          </th> <td>    10.7</td>\n",
       "</tr>\n",
       "</table><br/><br/>Notes:<br/>[1] Standard Errors assume that the covariance matrix of the errors is correctly specified."
      ],
      "text/plain": [
       "<class 'statsmodels.iolib.summary.Summary'>\n",
       "\"\"\"\n",
       "                            OLS Regression Results                            \n",
       "==============================================================================\n",
       "Dep. Variable:                      y   R-squared:                       0.889\n",
       "Model:                            OLS   Adj. R-squared:                  0.884\n",
       "Method:                 Least Squares   F-statistic:                     183.6\n",
       "Date:                Wed, 22 Nov 2023   Prob (F-statistic):           1.88e-12\n",
       "Time:                        10:59:25   Log-Likelihood:                -24.793\n",
       "No. Observations:                  25   AIC:                             53.59\n",
       "Df Residuals:                      23   BIC:                             56.02\n",
       "Df Model:                           1                                         \n",
       "Covariance Type:            nonrobust                                         \n",
       "==============================================================================\n",
       "                 coef    std err          t      P>|t|      [0.025      0.975]\n",
       "------------------------------------------------------------------------------\n",
       "const         -1.0952      0.280     -3.918      0.001      -1.674      -0.517\n",
       "x1             0.7499      0.055     13.551      0.000       0.635       0.864\n",
       "==============================================================================\n",
       "Omnibus:                        1.587   Durbin-Watson:                   0.107\n",
       "Prob(Omnibus):                  0.452   Jarque-Bera (JB):                0.917\n",
       "Skew:                           0.469   Prob(JB):                        0.632\n",
       "Kurtosis:                       3.023   Cond. No.                         10.7\n",
       "==============================================================================\n",
       "\n",
       "Notes:\n",
       "[1] Standard Errors assume that the covariance matrix of the errors is correctly specified.\n",
       "\"\"\""
      ]
     },
     "execution_count": 12,
     "metadata": {},
     "output_type": "execute_result"
    }
   ],
   "source": [
    "# Add intercept (optional)\n",
    "strains_train = sm.add_constant(strains_train)\n",
    "\n",
    "# Fit the simple linear regression model\n",
    "reg = sm.OLS(stresses_train, strains_train).fit()\n",
    "\n",
    "# View model summary\n",
    "reg.summary()"
   ]
  },
  {
   "cell_type": "markdown",
   "id": "a9839bf4",
   "metadata": {},
   "source": [
    "With the model summary we get the same regression coefficients and R-squared value as calculated by ```scikit-learn``` in task 1.3."
   ]
  },
  {
   "cell_type": "markdown",
   "id": "0fa9f871",
   "metadata": {},
   "source": [
    "1.6. Visualize the reference data by Treloar for the uniaxial tension mode and the resulted regression line in one plot. What can you observed?"
   ]
  },
  {
   "cell_type": "code",
   "execution_count": 14,
   "id": "19a9587f",
   "metadata": {},
   "outputs": [
    {
     "data": {
      "image/png": "[encoded data removed]",
      "text/plain": [
       "<Figure size 432x288 with 1 Axes>"
      ]
     },
     "metadata": {
      "needs_background": "light"
     },
     "output_type": "display_data"
    }
   ],
   "source": [
    "# Get predicted stresses from the whole strain data set\n",
    "stresses_predicted = reg.predict(strains_train)\n",
    "\n",
    "fig, ax = plt.subplots()\n",
    "\n",
    "ax = sns.scatterplot(x =  df_ut.columns[0], y =  df_ut.columns[1], data=df_ut, label=\"Reference data\")\n",
    "\n",
    "ax1 = sns.lineplot(x =  df_ut.columns[0], y =  stresses_predicted, data=df_ut, label=\"Regression line\")\n",
    "\n",
    "plt.vlines(strains, stresses_predicted, stresses_train)\n",
    "\n",
    "ax.set(xlabel=r'$\\lambda \\ []$', ylabel=r'$1. [MPa]$')\n",
    "\n",
    "plt.show()"
   ]
  },
  {
   "cell_type": "markdown",
   "id": "23ccc094",
   "metadata": {},
   "source": [
    "The linear fit does not match the reference data well. The residual error is quite large for all strains."
   ]
  },
  {
   "cell_type": "markdown",
   "id": "2a384520",
   "metadata": {},
   "source": [
    "### Task 2\n",
    "2.1. Next we want to perform a polynomial regression analysis of the form $P_i = \\beta_0 + \\beta_1 \\lambda_i + \\beta_2 \\lambda_i^2$. Use `PolynomialFeatures` together with `LinearRegression()` from the `sklearn.preprocessing` library to fit again the stress-strain data for the uniaxial tension mode. What are the resulting regression cofficients?\n",
    "\n",
    "**Hint:**  You need to import `PolynomialFeatures` from `sklearn.preprocessing`, where \n",
    "\n",
    "\n",
    "`degree` sets the degree of our polynomial function. `degree=2` means that we want to work with a 2nd degree polynomial \\\n",
    " `include_bias=False` should be set to `False`, because we’ll use `PolynomialFeatures` together with `LinearRegression()` "
   ]
  },
  {
   "cell_type": "code",
   "execution_count": 15,
   "id": "d2a29652",
   "metadata": {},
   "outputs": [
    {
     "data": {
      "text/plain": [
       "array([[ 1.        ,  1.        ],\n",
       "       [ 1.02423152,  1.04905021],\n",
       "       [ 1.12114496,  1.25696602],\n",
       "       [ 1.23416219,  1.52315631],\n",
       "       [ 1.39557925,  1.94764145],\n",
       "       [ 1.58118992,  2.50016156],\n",
       "       [ 1.90388501,  3.62477812],\n",
       "       [ 2.17820554,  4.74457936],\n",
       "       [ 2.42025529,  5.85763568],\n",
       "       [ 3.01728355,  9.10400002],\n",
       "       [ 3.57398914, 12.77339839],\n",
       "       [ 4.0339077 , 16.2724113 ],\n",
       "       [ 4.76019601, 22.65946605],\n",
       "       [ 5.36552897, 28.78890109],\n",
       "       [ 5.75311953, 33.09838432],\n",
       "       [ 6.14876198, 37.80727394],\n",
       "       [ 6.40730738, 41.05358782],\n",
       "       [ 6.60136179, 43.57797742],\n",
       "       [ 6.85991982, 47.05849991],\n",
       "       [ 7.05392367, 49.75783907],\n",
       "       [ 7.15120368, 51.13971401],\n",
       "       [ 7.25654822, 52.65749207],\n",
       "       [ 7.40217751, 54.79223186],\n",
       "       [ 7.49945752, 56.24186308],\n",
       "       [ 7.60526976, 57.84012805]])"
      ]
     },
     "execution_count": 15,
     "metadata": {},
     "output_type": "execute_result"
    }
   ],
   "source": [
    "from sklearn.preprocessing import PolynomialFeatures\n",
    "\n",
    "poly = PolynomialFeatures(degree=2, include_bias=False)\n",
    "\n",
    "# Creating the new features\n",
    "poly_features = poly.fit_transform(np.array(strains).reshape(-1, 1))\n",
    "poly_features"
   ]
  },
  {
   "cell_type": "code",
   "execution_count": 16,
   "id": "976040e2",
   "metadata": {},
   "outputs": [
    {
     "name": "stdout",
     "output_type": "stream",
     "text": [
      "Polynomial Equation (degree 2): 7.8216e-01 +  (-5.6676e-01)x + (1.5413e-01) x^2\n"
     ]
    }
   ],
   "source": [
    "# Create the polynomial regression model\n",
    "poly_reg_model = linear_model.LinearRegression()\n",
    "\n",
    "# Fit the model to our training data\n",
    "poly_reg_model.fit(poly_features, stresses_train)\n",
    "\n",
    "print(\"Polynomial Equation (degree 2): %.4e +  (%.4e)x + (%.4e) x^2\"%(poly_reg_model.intercept_, poly_reg_model.coef_[0], poly_reg_model.coef_[1]))"
   ]
  },
  {
   "cell_type": "markdown",
   "id": "4729c9db",
   "metadata": {},
   "source": [
    "2.2. Compare the performance of this polynomial regression model against the linear regression model from the previous tasks."
   ]
  },
  {
   "cell_type": "code",
   "execution_count": 17,
   "id": "711b19d8",
   "metadata": {},
   "outputs": [
    {
     "name": "stdout",
     "output_type": "stream",
     "text": [
      "R-squared value: 9.6986e-01\n"
     ]
    }
   ],
   "source": [
    "# R-squared value to compare the model performance\n",
    "stresses_predicted = poly_reg_model.predict(poly_features)\n",
    "print(\"R-squared value: %.4e\"%r2_score(y_true=np.array(stresses_train), y_pred=stresses_predicted))"
   ]
  },
  {
   "cell_type": "markdown",
   "id": "baf855d2",
   "metadata": {},
   "source": [
    "2.3. Visualize the reference data by Treloar for the uniaxial tension mode and the resulted regression line in one plot. What can you observed?"
   ]
  },
  {
   "cell_type": "code",
   "execution_count": 19,
   "id": "d3da1e71",
   "metadata": {},
   "outputs": [
    {
     "data": {
      "image/png": "[encoded data removed]",
      "text/plain": [
       "<Figure size 432x288 with 1 Axes>"
      ]
     },
     "metadata": {
      "needs_background": "light"
     },
     "output_type": "display_data"
    }
   ],
   "source": [
    "# Plot the regression model\n",
    "fig, ax = plt.subplots()\n",
    "\n",
    "ax = sns.scatterplot(x =  df_ut.columns[0], y =  df_ut.columns[1], data=df_ut, label=\"Reference data\")\n",
    "\n",
    "sns.lineplot(x =  df_ut.columns[0], y =  stresses_predicted, data=df_ut, label=\"Regression line\")\n",
    "\n",
    "plt.vlines(strains, stresses_predicted, stresses_train)\n",
    "\n",
    "ax.set(xlabel=r'$\\lambda \\ []$', ylabel=r'$1. [MPa]$')\n",
    "\n",
    "plt.show()"
   ]
  },
  {
   "cell_type": "markdown",
   "id": "e24a93f1",
   "metadata": {},
   "source": [
    "The polynomial fit with degree of $2$ matches the reference data better than the simple linear fit, however the residual error is quite large."
   ]
  },
  {
   "cell_type": "markdown",
   "id": "c7493a64",
   "metadata": {},
   "source": [
    "2.4. Increase the polynomial degree and fit and train the model again. Visualize the reference data by Treloar for the uniaxial tension mode and the resulted polynomial regression line in one plot."
   ]
  },
  {
   "cell_type": "code",
   "execution_count": 22,
   "id": "a97fb4fe",
   "metadata": {},
   "outputs": [
    {
     "name": "stdout",
     "output_type": "stream",
     "text": [
      "Predicted stress value in the undeformed configuration: -2.9428e-02\n"
     ]
    },
    {
     "data": {
      "image/png": "[encoded data removed]",
      "text/plain": [
       "<Figure size 432x288 with 1 Axes>"
      ]
     },
     "metadata": {
      "needs_background": "light"
     },
     "output_type": "display_data"
    }
   ],
   "source": [
    "# Create and fit the model\n",
    "poly = PolynomialFeatures(degree=3, include_bias=False)\n",
    "\n",
    "poly_features = poly.fit_transform(np.array(strains).reshape(-1, 1))\n",
    "\n",
    "poly_reg_model = linear_model.LinearRegression()\n",
    "\n",
    "poly_reg_model.fit(poly_features, stresses_train)\n",
    "\n",
    "stresses_predicted = poly_reg_model.predict(poly_features)\n",
    "\n",
    "# predict the stress value in the undeformed state (for Task 3.2)\n",
    "print(\"Predicted stress value in the undeformed configuration: %0.4e\"%(poly_reg_model.predict(poly.fit_transform([[1]]))[0]))\n",
    "\n",
    "# Plot the regression model\n",
    "fig, ax = plt.subplots()\n",
    "\n",
    "ax = sns.scatterplot(x =  df_ut.columns[0], y =  df_ut.columns[1], data=df_ut, label=\"Reference data\")\n",
    "\n",
    "sns.lineplot(x =  df_ut.columns[0], y =  stresses_predicted, data=df_ut, label=\"Regression line (degree 3)\")\n",
    "\n",
    "plt.vlines(strains, stresses_predicted, stresses_train)\n",
    "\n",
    "ax.set(xlabel=r'$\\lambda \\ []$', ylabel=r'$1. [MPa]$')\n",
    "\n",
    "plt.show()"
   ]
  },
  {
   "cell_type": "markdown",
   "id": "bda8e436",
   "metadata": {},
   "source": [
    "### Task 3\n",
    "3.1. Load all three stress-strain data sets and fit them with a fourth order polynomial regression model.\\\n",
    "The polynomial function has the form $P_i = \\beta_0 + \\beta_1 \\lambda_i + \\beta_2 \\lambda_i^2 + \\beta_3 \\lambda_i^3 + \\beta_4 \\lambda_i^4$. Visualize all three resluting regression lines together with the reference data in the same plot."
   ]
  },
  {
   "cell_type": "code",
   "execution_count": 23,
   "id": "191e2850",
   "metadata": {},
   "outputs": [
    {
     "name": "stdout",
     "output_type": "stream",
     "text": [
      "Predicted stress value in the undeformed configuration: 6.2753e-02\n",
      "Predicted stress value in the undeformed configuration: 3.1318e-02\n"
     ]
    },
    {
     "data": {
      "image/png": "[encoded data removed]",
      "text/plain": [
       "<Figure size 432x288 with 1 Axes>"
      ]
     },
     "metadata": {
      "needs_background": "light"
     },
     "output_type": "display_data"
    }
   ],
   "source": [
    "def regression(x_train, y_train) :\n",
    "    \n",
    "    poly = PolynomialFeatures(degree=4, include_bias=False)\n",
    "\n",
    "    poly_features = poly.fit_transform(x_train) \n",
    "\n",
    "    poly_reg_model = linear_model.LinearRegression()\n",
    "\n",
    "    poly_reg_model.fit(poly_features, y_train)\n",
    "\n",
    "    y_predicted = poly_reg_model.predict(poly_features)\n",
    "\n",
    "    # predict the stress value in the undeformed state (for Task 3.2)\n",
    "    print(\"Predicted stress value in the undeformed configuration: %0.4e\"%(poly_reg_model.predict(poly.fit_transform([[1]]))[0]))\n",
    "\n",
    "    return y_predicted\n",
    "\n",
    "\n",
    "# pure shear data\n",
    "df_ps = pd.read_csv(\"./data/treloar_pure_shear.csv\", delimiter=\" \")\n",
    "stresses = df_ps['stresses']\n",
    "strains= df_ps['strains']\n",
    "\n",
    "x_train_ps = np.array(strains).reshape(-1, 1) # sklearn requires in 2D array\n",
    "y_train_ps = np.array(stresses)\n",
    "y_predicted_ps = regression(x_train_ps, y_train_ps)\n",
    "\n",
    "# equibiaxial tension data\n",
    "df_et = pd.read_csv(\"./data/treloar_equibiaxial_tension.csv\", delimiter=\" \")\n",
    "stresses = df_et['stresses']\n",
    "strains= df_et['strains']\n",
    "x_train_et= np.array(strains).reshape(-1, 1) # sklearn requires in 2D array\n",
    "y_train_et = np.array(stresses)\n",
    "y_predicted_et = regression(x_train_et, y_train_et)\n",
    "\n",
    "\n",
    "# Plot \n",
    "fig, ax = plt.subplots()\n",
    "ax = sns.scatterplot(x =  df_ut.columns[0], y =  stresses_train, data=df_ut, label = \"Reference data (UT)\")\n",
    "sns.lineplot(x =  df_ut.columns[0], y =  stresses_predicted, data=df_ut, label= \"Regression line (UT)\")\n",
    "\n",
    "sns.scatterplot(x =  df_ps.columns[0], y =  y_train_ps, data=df_ps, label = \"Reference data (PS)\")\n",
    "sns.lineplot(x =  df_ps.columns[0], y =  y_predicted_ps, data=df_ps, label= \"Regression line (PS)\")\n",
    "\n",
    "sns.scatterplot(x =  df_et.columns[0], y =  y_train_et, data=df_et, label = \"Reference data (ET)\")\n",
    "sns.lineplot(x =  df_et.columns[0], y =  y_predicted_et, data=df_et, label= \"Regression line (ET)\")\n",
    "ax.set(xlabel=r'$\\lambda \\ []$', ylabel=r'$1.  [MPa]$')\n",
    "plt.show()"
   ]
  },
  {
   "cell_type": "markdown",
   "id": "708b5b78",
   "metadata": {},
   "source": [
    "3.2.Discuss if this kind of network is applicable for simulations of realistic physical systems involving hyperelastic materials? If not, how could we improve this?\n",
    "\n",
    "**Hints:** If you have trouble answering this question, here are a few more that might get you thinking:\n",
    "\n",
    "* How could a network distinguish between the three deformation modes by a given strain state?\n",
    "* What stresses would the network predict in a compression mode?\n",
    "* What happens in the undeformed state. What value for the stress is predicted then? Is this physically realistic?\n",
    "* How can the network ensure that the stress tensor is symmetric?\n",
    "* Is the deformation reversible?"
   ]
  },
  {
   "cell_type": "markdown",
   "id": "2e26cb6e",
   "metadata": {},
   "source": [
    "Some points could be:\n",
    "If we increase the polynomial degree of the regression model, the residual error decreases. With a higher polynomial degree, the model is able to represent the stress-strain data from Treloars experiments. However, we don't validated our model. If we look at the predicted values, we see that this model is not sufficient to represent the constitutive behavior of hyperelastic material. The model can not distinguish between different deformation modes since it has no information about which of these three curves is associated with a specific strain state. Also, it can not predict what stresses will result if we compress the material, for example. \n",
    "\n",
    "If we look at the undeformed configuration of the material, $\\lambda=0$, the predicted stresses are not zero, as we would assume from our theoretical knowledge. \n",
    "\n",
    "What we can see from this is that we need to incorporate additional information about the principles of mechanics and materials theory to improve the predictions.\n",
    "\n",
    "In order to improve this, different approaches exist and this is still an emerging field. The key question is how experimental data can effectively be used to model the mechanical constitutive behavior of materials. They have in common that they involve physical information in some way.\n",
    "We would require a large amount of data to train and test a neural network to represent the constitutive behavior of a specific material accurately if we only focused on stress-strain data and neglected advanced principles from materials theory or thermodynamics. These types of networks are called artificial-neural networks (ANNs). \n",
    "\n",
    "ANNs are highly general and do not, by default, incorporate any information about the principles of mechanics and materials theory. Additionally, they do not constrain their output to a physically reasonable range by default to ensure, for example, zero stresses in the undeformed state. \n",
    "\n",
    "One solution to overcome these limitations of standard ANNs as data-driven constitutive models is constitutive artificial neural networks (CANNs)[3]. In another lecture and exercise, you will get an insight into this approach.\n"
   ]
  }
 ],
 "metadata": {
  "kernelspec": {
   "display_name": "Python 3 (ipykernel)",
   "language": "python",
   "name": "python3"
  },
  "language_info": {
   "codemirror_mode": {
    "name": "ipython",
    "version": 3
   },
   "file_extension": ".py",
   "mimetype": "text/x-python",
   "name": "python",
   "nbconvert_exporter": "python",
   "pygments_lexer": "ipython3",
   "version": "3.8.8"
  }
 },
 "nbformat": 4,
 "nbformat_minor": 5
}
