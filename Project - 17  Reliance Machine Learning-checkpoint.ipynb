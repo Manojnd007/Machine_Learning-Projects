{
 "cells": [
  {
   "cell_type": "code",
   "execution_count": 1,
   "metadata": {},
   "outputs": [],
   "source": [
    "import numpy as np\n",
    "import pandas as pd\n",
    "import matplotlib.pyplot as plt\n",
    "import datetime as dt\n",
    "import pandas_datareader.data as web\n",
    "from sklearn.preprocessing import StandardScaler\n"
   ]
  },
  {
   "cell_type": "code",
   "execution_count": 2,
   "metadata": {},
   "outputs": [
    {
     "data": {
      "text/plain": [
       "(2634, 7)"
      ]
     },
     "execution_count": 2,
     "metadata": {},
     "output_type": "execute_result"
    },
    {
     "data": {
      "text/plain": [
       "(2634, 7)"
      ]
     },
     "execution_count": 2,
     "metadata": {},
     "output_type": "execute_result"
    }
   ],
   "source": [
    "pd.read_csv('Reliance_data.csv').shape"
   ]
  },
  {
   "cell_type": "code",
   "execution_count": 3,
   "metadata": {},
   "outputs": [
    {
     "data": {
      "text/plain": [
       "(array([[ 1.6764581 ,  2.10836497, -2.53609522, ..., -2.43505487,\n",
       "          1.53465092,  2.79971748],\n",
       "        [-0.15951524,  0.21855852, -2.44649305, ..., -2.40685241,\n",
       "          1.76811901,  2.65598368],\n",
       "        [ 0.09642935, -0.97164487, -2.37447193, ..., -2.41299877,\n",
       "          0.28100219,  1.8529421 ],\n",
       "        ...,\n",
       "        [ 1.25437205,  0.99865043,  4.14951617, ...,  4.07552771,\n",
       "          2.94035554,  1.42781645],\n",
       "        [ 0.31680834, -1.34162529,  4.26117947, ...,  4.15175974,\n",
       "          2.74167272,  1.52609175],\n",
       "        [ 0.42513749,  1.20296363,  4.38309279, ...,  4.23826073,\n",
       "          2.48901623,  1.8416007 ]]),\n",
       " array([[ 1.49716648e+00, -2.00099148e+00,  4.47255923e+00, ...,\n",
       "          4.28160849e+00,  6.12266554e-02,  1.72169855e+00],\n",
       "        [ 3.61630107e-01,  2.52605684e-01,  4.48538857e+00, ...,\n",
       "          4.31791353e+00, -2.20330905e-01,  1.60219666e+00],\n",
       "        [-2.30983968e-02,  8.74826076e-01,  4.48532062e+00, ...,\n",
       "          4.37079034e+00, -2.21341395e-01,  1.69253125e+00],\n",
       "        ...,\n",
       "        [ 3.46566724e+00, -2.99778356e+00,  1.01149839e+01, ...,\n",
       "          1.04865240e+01,  1.37109650e+00,  2.08433488e+00],\n",
       "        [ 1.50089631e+00,  1.73849791e+00,  1.01882948e+01, ...,\n",
       "          1.04830776e+01,  2.82579814e-01,  1.25573495e+00],\n",
       "        [ 3.20419631e+00,  1.49974824e+02,  1.01563910e+01, ...,\n",
       "          1.04484473e+01,  6.36746649e-01,  1.00511865e+00]]),\n",
       " 9       1\n",
       " 10      0\n",
       " 11      0\n",
       " 12      1\n",
       " 13      1\n",
       "        ..\n",
       " 2104    1\n",
       " 2105    1\n",
       " 2106    0\n",
       " 2107    1\n",
       " 2108    0\n",
       " Name: Price_Rise, Length: 2100, dtype: int32,\n",
       " 2109    0\n",
       " 2110    1\n",
       " 2111    0\n",
       " 2112    1\n",
       " 2113    1\n",
       "        ..\n",
       " 2629    1\n",
       " 2630    0\n",
       " 2631    1\n",
       " 2632    0\n",
       " 2633    0\n",
       " Name: Price_Rise, Length: 525, dtype: int32)"
      ]
     },
     "execution_count": 3,
     "metadata": {},
     "output_type": "execute_result"
    },
    {
     "data": {
      "text/plain": [
       "(array([[ 1.6764581 ,  2.10836497, -2.53609522, ..., -2.43505487,\n",
       "          1.53465092,  2.79971748],\n",
       "        [-0.15951524,  0.21855852, -2.44649305, ..., -2.40685241,\n",
       "          1.76811901,  2.65598368],\n",
       "        [ 0.09642935, -0.97164487, -2.37447193, ..., -2.41299877,\n",
       "          0.28100219,  1.8529421 ],\n",
       "        ...,\n",
       "        [ 1.25437205,  0.99865043,  4.14951617, ...,  4.07552771,\n",
       "          2.94035554,  1.42781645],\n",
       "        [ 0.31680834, -1.34162529,  4.26117947, ...,  4.15175974,\n",
       "          2.74167272,  1.52609175],\n",
       "        [ 0.42513749,  1.20296363,  4.38309279, ...,  4.23826073,\n",
       "          2.48901623,  1.8416007 ]]),\n",
       " array([[ 1.49716648e+00, -2.00099148e+00,  4.47255923e+00, ...,\n",
       "          4.28160849e+00,  6.12266554e-02,  1.72169855e+00],\n",
       "        [ 3.61630107e-01,  2.52605684e-01,  4.48538857e+00, ...,\n",
       "          4.31791353e+00, -2.20330905e-01,  1.60219666e+00],\n",
       "        [-2.30983968e-02,  8.74826076e-01,  4.48532062e+00, ...,\n",
       "          4.37079034e+00, -2.21341395e-01,  1.69253125e+00],\n",
       "        ...,\n",
       "        [ 3.46566724e+00, -2.99778356e+00,  1.01149839e+01, ...,\n",
       "          1.04865240e+01,  1.37109650e+00,  2.08433488e+00],\n",
       "        [ 1.50089631e+00,  1.73849791e+00,  1.01882948e+01, ...,\n",
       "          1.04830776e+01,  2.82579814e-01,  1.25573495e+00],\n",
       "        [ 3.20419631e+00,  1.49974824e+02,  1.01563910e+01, ...,\n",
       "          1.04484473e+01,  6.36746649e-01,  1.00511865e+00]]),\n",
       " 9       1\n",
       " 10      0\n",
       " 11      0\n",
       " 12      1\n",
       " 13      1\n",
       "        ..\n",
       " 2104    1\n",
       " 2105    1\n",
       " 2106    0\n",
       " 2107    1\n",
       " 2108    0\n",
       " Name: Price_Rise, Length: 2100, dtype: int32,\n",
       " 2109    0\n",
       " 2110    1\n",
       " 2111    0\n",
       " 2112    1\n",
       " 2113    1\n",
       "        ..\n",
       " 2629    1\n",
       " 2630    0\n",
       " 2631    1\n",
       " 2632    0\n",
       " 2633    0\n",
       " Name: Price_Rise, Length: 525, dtype: int32)"
      ]
     },
     "execution_count": 3,
     "metadata": {},
     "output_type": "execute_result"
    }
   ],
   "source": [
    "def data_preprocessing(ticker):\n",
    "    dataset = pd.read_csv('{}.csv'.format(ticker))\n",
    "    dataset = dataset.dropna()\n",
    "    dataset = dataset[['Open', 'High', 'Low', 'Close']]\n",
    "    \n",
    "    dataset['H-L'] = dataset['High'] - dataset['Low']\n",
    "    dataset['O-C'] = dataset['Close'] - dataset['Open']\n",
    "    \n",
    "    dataset['ma_5'] = dataset['Close'].rolling(window=5).mean()\n",
    "    dataset['ma_10'] = dataset['Close'].rolling(window=10).mean()\n",
    "    \n",
    "    dataset['EWMA_12'] = dataset['Close'].ewm(span=12).mean()\n",
    "\n",
    "    dataset['std_5'] = dataset['Close'].rolling(window=5).std()\n",
    "    dataset['std_10'] = dataset['Close'].rolling(window=10).std()\n",
    "    \n",
    "    dataset['Price_Rise'] = np.where(dataset['Close'].shift(-1) > dataset['Close'], 1, 0)\n",
    "    \n",
    "    dataset = dataset.dropna()\n",
    "    X = dataset.iloc[:, 4:-1]\n",
    "    y = dataset.iloc[:, -1]\n",
    "    \n",
    "    split = int(len(dataset)*0.8)\n",
    "    X_train, X_test, y_train, y_test = X[:split], X[split:], y[:split], y[split:]\n",
    "    \n",
    "    sc = StandardScaler()\n",
    "    X_train = sc.fit_transform(X_train)\n",
    "    X_test = sc.transform(X_test)\n",
    "    \n",
    "    return X_train, X_test, y_train, y_test\n",
    "\n",
    "data_preprocessing('Reliance_data')"
   ]
  },
  {
   "cell_type": "code",
   "execution_count": 7,
   "metadata": {},
   "outputs": [
    {
     "name": "stdout",
     "output_type": "stream",
     "text": [
      "accuracy: 0.5161904761904762\n",
      "predicted class counts: Counter({0: 458, 1: 67})\n",
      "accuracy: 0.5161904761904762\n",
      "predicted class counts: Counter({0: 458, 1: 67})\n"
     ]
    }
   ],
   "source": [
    "from sklearn import svm\n",
    "from collections import Counter\n",
    "\n",
    "def svm_linear(ticker):\n",
    "    X_train, X_test, y_train, y_test = data_preprocessing(ticker)\n",
    "    clf = svm.SVC(kernel = 'linear')\n",
    "    clf.fit(X_train, y_train)\n",
    "    confidence = clf.score(X_test, y_test)\n",
    "    print('accuracy:',confidence)\n",
    "    predictions = clf.predict(X_test)\n",
    "    print('predicted class counts:',Counter(predictions))\n",
    "    \n",
    "svm_linear('Reliance_data')    "
   ]
  },
  {
   "cell_type": "code",
   "execution_count": 8,
   "metadata": {},
   "outputs": [
    {
     "name": "stdout",
     "output_type": "stream",
     "text": [
      "accuracy: 0.518095238095238\n",
      "predicted class counts: Counter({1: 422, 0: 103})\n",
      "accuracy: 0.518095238095238\n",
      "predicted class counts: Counter({1: 422, 0: 103})\n"
     ]
    }
   ],
   "source": [
    "def svm_poly(ticker):\n",
    "    X_train, X_test, y_train, y_test = data_preprocessing(ticker)\n",
    "    clf = svm.SVC(kernel = 'poly')\n",
    "    clf.fit(X_train, y_train)\n",
    "    confidence = clf.score(X_test, y_test)\n",
    "    print('accuracy:',confidence)\n",
    "    predictions = clf.predict(X_test)\n",
    "    print('predicted class counts:',Counter(predictions))\n",
    "    \n",
    "svm_poly('Reliance_data')   "
   ]
  },
  {
   "cell_type": "code",
   "execution_count": 9,
   "metadata": {},
   "outputs": [
    {
     "name": "stdout",
     "output_type": "stream",
     "text": [
      "accuracy: 0.4990476190476191\n",
      "predicted class counts: Counter({1: 504, 0: 21})\n",
      "accuracy: 0.4990476190476191\n",
      "predicted class counts: Counter({1: 504, 0: 21})\n"
     ]
    }
   ],
   "source": [
    "def svm_rbf(ticker):\n",
    "    X_train, X_test, y_train, y_test = data_preprocessing(ticker)\n",
    "    clf = svm.SVC(kernel = 'rbf')\n",
    "    clf.fit(X_train, y_train)\n",
    "    confidence = clf.score(X_test, y_test)\n",
    "    print('accuracy:',confidence)\n",
    "    predictions = clf.predict(X_test)\n",
    "    print('predicted class counts:',Counter(predictions))\n",
    "    \n",
    "svm_rbf('Reliance_data')  "
   ]
  }
 ],
 "metadata": {
  "kernelspec": {
   "display_name": "Python 3 (ipykernel)",
   "language": "python",
   "name": "python3"
  },
  "language_info": {
   "codemirror_mode": {
    "name": "ipython",
    "version": 3
   },
   "file_extension": ".py",
   "mimetype": "text/x-python",
   "name": "python",
   "nbconvert_exporter": "python",
   "pygments_lexer": "ipython3",
   "version": "3.8.8"
  }
 },
 "nbformat": 4,
 "nbformat_minor": 2
}
