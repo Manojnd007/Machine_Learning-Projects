{
 "cells": [
  {
   "cell_type": "markdown",
   "id": "c664ca30",
   "metadata": {},
   "source": [
    "### Basics of Python for Data Science\n",
    "1. Variables : Variable are the placeholder which holds the data and allows user to retrieve or update it.\n",
    "2. Data Types\n",
    "3. Lists : A list is used to store multiple items in the single variable and enclosed by square brackets.\n",
    "4. Tuple: Tuple stores multiple items in the single variable and enclosed by small brackets but tuple is immutable\n",
    "5. Set: A set stores multiple items in the single variable enclosed by flower bracter and it is also immutable and it doesn't hold duplicate values\n",
    "6. Dictionaries: Dictionaries are used to store values and keys\n",
    "7. Conditions and logic\n",
    "8. Loops\n",
    "9. Functions\n",
    "10. Arguments\n",
    "11. Keywords Arguments\n",
    "12. Lambda Functions\n",
    "13. String Formatting\n",
    "14. Classes\n",
    "15. Methods\n",
    "16. Attributes\n",
    "17. Class Inheritance"
   ]
  },
  {
   "cell_type": "code",
   "execution_count": null,
   "id": "150b2ed2",
   "metadata": {},
   "outputs": [],
   "source": [
    "CRED --> CREATE, READ, UPDATE AND DELETE"
   ]
  },
  {
   "cell_type": "code",
   "execution_count": 7,
   "id": "ef958793",
   "metadata": {},
   "outputs": [
    {
     "name": "stdout",
     "output_type": "stream",
     "text": [
      "Astronault Manoj\n"
     ]
    },
    {
     "data": {
      "text/plain": [
       "str"
      ]
     },
     "execution_count": 7,
     "metadata": {},
     "output_type": "execute_result"
    }
   ],
   "source": [
    "space_name = 'Astronault Manoj'\n",
    "print(space_name)\n",
    "type(space_name)"
   ]
  },
  {
   "cell_type": "code",
   "execution_count": 9,
   "id": "db99267c",
   "metadata": {},
   "outputs": [
    {
     "name": "stdout",
     "output_type": "stream",
     "text": [
      "654123356464\n"
     ]
    },
    {
     "data": {
      "text/plain": [
       "int"
      ]
     },
     "execution_count": 9,
     "metadata": {},
     "output_type": "execute_result"
    }
   ],
   "source": [
    "name_in_number = 654123356464\n",
    "print(name_in_number)\n",
    "type(name_in_number)"
   ]
  },
  {
   "cell_type": "code",
   "execution_count": 10,
   "id": "c6c25936",
   "metadata": {},
   "outputs": [],
   "source": [
    "#This is declaring a variable as a string\n",
    "string_variable = 'MANOJ N D'\n"
   ]
  },
  {
   "cell_type": "code",
   "execution_count": 11,
   "id": "0782579c",
   "metadata": {},
   "outputs": [
    {
     "name": "stdout",
     "output_type": "stream",
     "text": [
      "MANOJ N D\n"
     ]
    }
   ],
   "source": [
    "print(string_variable)"
   ]
  },
  {
   "cell_type": "code",
   "execution_count": 16,
   "id": "7d02317d",
   "metadata": {},
   "outputs": [
    {
     "name": "stdout",
     "output_type": "stream",
     "text": [
      "2345678\n",
      "********************\n",
      "566787.9898\n",
      "********************\n",
      "True\n"
     ]
    }
   ],
   "source": [
    "#Int variable\n",
    "int_variable = 2345678\n",
    "print(int_variable)\n",
    "print('*'*20)\n",
    "\n",
    "#Float variable\n",
    "float_variable = 566787.9898\n",
    "print(float_variable)\n",
    "print('*'*20)\n",
    "\n",
    "\n",
    "#Boolean variable\n",
    "bool_variable = True\n",
    "print(bool_variable)"
   ]
  },
  {
   "cell_type": "code",
   "execution_count": 49,
   "id": "b6a53c51",
   "metadata": {},
   "outputs": [
    {
     "name": "stdout",
     "output_type": "stream",
     "text": [
      "[21, 23, 66, 4, 76, 47, 67.78, 21, 23]\n"
     ]
    },
    {
     "data": {
      "text/plain": [
       "[21, 23, 4, 45, 47, 67.78, 21, 23, 23, 337]"
      ]
     },
     "execution_count": 49,
     "metadata": {},
     "output_type": "execute_result"
    }
   ],
   "source": [
    "#List variables \n",
    "list_variables = [21,23,66,4,76,47,67.78,21,23]\n",
    "type(list_variables)\n",
    "print(list_variables)\n",
    "\n",
    "#insert\n",
    "list_variables.append(337)\n",
    "list_variables.insert(9,23)\n",
    "\n",
    "###Updating\n",
    "list_variables[4]=45\n",
    "list_variables\n",
    "\n",
    "#Delete\n",
    "del list_variables[2]\n",
    "list_variables"
   ]
  },
  {
   "cell_type": "code",
   "execution_count": 20,
   "id": "c5358f72",
   "metadata": {},
   "outputs": [
    {
     "data": {
      "text/plain": [
       "4"
      ]
     },
     "execution_count": 20,
     "metadata": {},
     "output_type": "execute_result"
    }
   ],
   "source": [
    "# Creating Tuple\n",
    "tuple_variable=(21,23,66,4,76,47,67.78)\n",
    "#tuple_variable is immutable\n",
    "tuple_variable[3]\n",
    "\n"
   ]
  },
  {
   "cell_type": "code",
   "execution_count": 24,
   "id": "d4926514",
   "metadata": {},
   "outputs": [
    {
     "name": "stdout",
     "output_type": "stream",
     "text": [
      "{96, 34, 3, 4, 99, 7, 12, 45, 78, 56}\n"
     ]
    },
    {
     "data": {
      "text/plain": [
       "set"
      ]
     },
     "execution_count": 24,
     "metadata": {},
     "output_type": "execute_result"
    }
   ],
   "source": [
    "#Creating set variable\n",
    "set_variable={12,34,56,7,4,3,12,45,78,96,99}\n",
    "print(set_variable)\n",
    "type(set_variable)"
   ]
  },
  {
   "cell_type": "code",
   "execution_count": 34,
   "id": "c0f72965",
   "metadata": {},
   "outputs": [
    {
     "name": "stdout",
     "output_type": "stream",
     "text": [
      "{66, 67.78, 4, 76, 47, 21, 23}\n",
      "[21, 23, 66, 4, 76, 47, 67.78, 21, 23]\n"
     ]
    }
   ],
   "source": [
    "#Type casting list to set back to list and get rid of duplicates\n",
    "print(set(list_variables))\n",
    "\n",
    "print(list_variables)"
   ]
  },
  {
   "cell_type": "code",
   "execution_count": 36,
   "id": "7dd3615b",
   "metadata": {},
   "outputs": [
    {
     "name": "stdout",
     "output_type": "stream",
     "text": [
      "{'Name': 'Manoj', 'Age': 24, 'Job': 'Data Scientist'}\n"
     ]
    },
    {
     "data": {
      "text/plain": [
       "dict"
      ]
     },
     "execution_count": 36,
     "metadata": {},
     "output_type": "execute_result"
    }
   ],
   "source": [
    "#Defining a dictionary variable\n",
    "dict_variable = {'Name':'Manoj',\n",
    "                'Age':24,\n",
    "                'Job': 'Data Scientist'}\n",
    "print(dict_variable)\n",
    "type(dict_variable)"
   ]
  },
  {
   "cell_type": "code",
   "execution_count": 38,
   "id": "7adc6bae",
   "metadata": {},
   "outputs": [
    {
     "data": {
      "text/plain": [
       "'Manoj'"
      ]
     },
     "execution_count": 38,
     "metadata": {},
     "output_type": "execute_result"
    }
   ],
   "source": [
    "dict_variable['Name']"
   ]
  },
  {
   "cell_type": "code",
   "execution_count": 64,
   "id": "0be8cca7",
   "metadata": {},
   "outputs": [
    {
     "name": "stdout",
     "output_type": "stream",
     "text": [
      "Yes it is\n",
      "Yes correct\n"
     ]
    }
   ],
   "source": [
    "#conditions and logic\n",
    "\n",
    "#Applying logic using the IF statement\n",
    "name = 'Neil Armstrong'\n",
    "if name=='Neil Armstrong':\n",
    "    print('Yes it is')\n",
    "else:\n",
    "    print(\"It's not\")\n",
    "\n",
    "    \n",
    "#Applying logic using if else and the data is number\n",
    "number = 123456876\n",
    "if number >= 1234:\n",
    "    print('Yes correct')\n",
    "else: \n",
    "    print('wrong')"
   ]
  },
  {
   "cell_type": "code",
   "execution_count": 13,
   "id": "503b8496",
   "metadata": {},
   "outputs": [
    {
     "name": "stdout",
     "output_type": "stream",
     "text": [
      "Manoj here\n"
     ]
    }
   ],
   "source": [
    "names = ['Manoj','Elon','silly','simple']\n",
    "if 'Manoj' in names:\n",
    "    print('Manoj here')"
   ]
  },
  {
   "cell_type": "code",
   "execution_count": 67,
   "id": "2c82b026",
   "metadata": {},
   "outputs": [
    {
     "name": "stdout",
     "output_type": "stream",
     "text": [
      "Manoj\n",
      "Elon\n",
      "silly\n",
      "simple\n"
     ]
    }
   ],
   "source": [
    "### For Loops\n",
    "\n",
    "#An example of the for loops\n",
    "for name in names:\n",
    "    print(name)"
   ]
  },
  {
   "cell_type": "code",
   "execution_count": 77,
   "id": "be1a9fce",
   "metadata": {},
   "outputs": [
    {
     "name": "stdout",
     "output_type": "stream",
     "text": [
      "Manoj is here\n",
      "the rest name is not part of the conditions\n"
     ]
    }
   ],
   "source": [
    "for name in names:\n",
    "    if name =='Manoj':\n",
    "        print('Manoj is here')\n",
    "    elif name =='Elon Musk':\n",
    "        print('Elon is here')\n",
    "        #Break the statement and comes out of the loops\n",
    "        break\n",
    "    else:\n",
    "        print('the rest name is not part of the conditions')\n",
    "        break"
   ]
  },
  {
   "cell_type": "code",
   "execution_count": 79,
   "id": "7e58500b",
   "metadata": {},
   "outputs": [
    {
     "name": "stdout",
     "output_type": "stream",
     "text": [
      "1\n",
      "2\n",
      "3\n",
      "4\n",
      "5\n",
      "6\n",
      "7\n",
      "8\n",
      "9\n"
     ]
    }
   ],
   "source": [
    "#loops x number of times\n",
    "for idx in range(1,10):\n",
    "    print(idx)"
   ]
  },
  {
   "cell_type": "code",
   "execution_count": 81,
   "id": "47860eb0",
   "metadata": {},
   "outputs": [
    {
     "name": "stdout",
     "output_type": "stream",
     "text": [
      "Manoj\n",
      "Elon\n",
      "silly\n",
      "simple\n"
     ]
    }
   ],
   "source": [
    "for idx in range(len(names)):\n",
    "    print(names[idx])"
   ]
  },
  {
   "cell_type": "code",
   "execution_count": 89,
   "id": "98113a29",
   "metadata": {},
   "outputs": [
    {
     "name": "stdout",
     "output_type": "stream",
     "text": [
      "Shuttle 1 launched\n",
      "Shuttle 2 launched\n",
      "Shuttle 3 launched\n",
      "Shuttle 4 launched\n",
      "Shuttle 5 launched\n",
      "Shuttle 6 launched\n",
      "Shuttle 7 launched\n",
      "Shuttle 8 launched\n",
      "Shuttle 9 launched\n",
      "Shuttle 10 launched\n",
      "All shuttle launched\n"
     ]
    }
   ],
   "source": [
    "##Create launch variables\n",
    "launch_shuttles = 0\n",
    "total_shuttles = 10\n",
    "while True:\n",
    "    #String format\n",
    "    print('Shuttle {} launched'.format(launch_shuttles+1))  \n",
    "    launch_shuttles+=1\n",
    "    if launch_shuttles == total_shuttles:\n",
    "        print('All shuttle launched')\n",
    "        break"
   ]
  },
  {
   "cell_type": "code",
   "execution_count": 3,
   "id": "c266b921",
   "metadata": {},
   "outputs": [],
   "source": [
    "astronaut = {'Name':'Elon Musk',\n",
    "            'Suit_size':'Medium',\n",
    "            'Allergies':'Nothing'}"
   ]
  },
  {
   "cell_type": "code",
   "execution_count": 5,
   "id": "4dee023b",
   "metadata": {},
   "outputs": [
    {
     "name": "stdout",
     "output_type": "stream",
     "text": [
      "Name\n",
      "Suit_size\n",
      "Allergies\n"
     ]
    }
   ],
   "source": [
    "#loop through the keys in the dictinory\n",
    "for key in astronaut.keys():\n",
    "    print(key)"
   ]
  },
  {
   "cell_type": "code",
   "execution_count": 6,
   "id": "20d72931",
   "metadata": {},
   "outputs": [
    {
     "name": "stdout",
     "output_type": "stream",
     "text": [
      "Elon Musk\n",
      "Medium\n",
      "Nothing\n"
     ]
    }
   ],
   "source": [
    "#Accessing dictionary values\n",
    "for value in astronaut.values():\n",
    "    print(value)"
   ]
  },
  {
   "cell_type": "code",
   "execution_count": 7,
   "id": "45ec2722",
   "metadata": {},
   "outputs": [
    {
     "data": {
      "text/plain": [
       "dict_items([('Name', 'Elon Musk'), ('Suit_size', 'Medium'), ('Allergies', 'Nothing')])"
      ]
     },
     "execution_count": 7,
     "metadata": {},
     "output_type": "execute_result"
    }
   ],
   "source": [
    "astronaut.items()"
   ]
  },
  {
   "cell_type": "code",
   "execution_count": 12,
   "id": "e32613cc",
   "metadata": {},
   "outputs": [
    {
     "name": "stdout",
     "output_type": "stream",
     "text": [
      "Name\n",
      "Elon Musk \n",
      "\n",
      "Suit_size\n",
      "Medium \n",
      "\n",
      "Allergies\n",
      "Nothing \n",
      "\n"
     ]
    }
   ],
   "source": [
    "#Loop through the keys and values at the same time:\n",
    "for key, value in astronaut.items():\n",
    "    print(key)\n",
    "    print(value,'\\n')\n"
   ]
  },
  {
   "cell_type": "code",
   "execution_count": 23,
   "id": "d21b5751",
   "metadata": {},
   "outputs": [],
   "source": [
    "#List comprehanisive\n",
    "new_list = [name.title() for name in names]"
   ]
  },
  {
   "cell_type": "code",
   "execution_count": 24,
   "id": "6992d7a8",
   "metadata": {},
   "outputs": [
    {
     "data": {
      "text/plain": [
       "['Manoj', 'Elon', 'Silly', 'Simple']"
      ]
     },
     "execution_count": 24,
     "metadata": {},
     "output_type": "execute_result"
    }
   ],
   "source": [
    "new_list"
   ]
  },
  {
   "cell_type": "code",
   "execution_count": 27,
   "id": "836869f9",
   "metadata": {},
   "outputs": [],
   "source": [
    "#######Functions\n",
    "\n",
    "\n",
    "#defining function in python ---> Recipe\n",
    "def Thisisfunction():\n",
    "    print('Hello Buddy')\n",
    "    print(1+2)"
   ]
  },
  {
   "cell_type": "code",
   "execution_count": 28,
   "id": "3891b5d2",
   "metadata": {},
   "outputs": [
    {
     "name": "stdout",
     "output_type": "stream",
     "text": [
      "Hello Buddy\n",
      "3\n"
     ]
    }
   ],
   "source": [
    "Thisisfunction()"
   ]
  },
  {
   "cell_type": "code",
   "execution_count": 29,
   "id": "1e027a4e",
   "metadata": {},
   "outputs": [
    {
     "name": "stdout",
     "output_type": "stream",
     "text": [
      "Hello Buddy\n",
      "3\n",
      "Hello Buddy\n",
      "3\n",
      "Hello Buddy\n",
      "3\n",
      "Hello Buddy\n",
      "3\n",
      "Hello Buddy\n",
      "3\n",
      "Hello Buddy\n",
      "3\n",
      "Hello Buddy\n",
      "3\n",
      "Hello Buddy\n",
      "3\n",
      "Hello Buddy\n",
      "3\n",
      "Hello Buddy\n",
      "3\n"
     ]
    }
   ],
   "source": [
    "#Basically the function is used to do repeated tasks\n",
    "for num in range(10):\n",
    "    Thisisfunction()"
   ]
  },
  {
   "cell_type": "code",
   "execution_count": 66,
   "id": "71708056",
   "metadata": {},
   "outputs": [],
   "source": [
    "names = ['Neil Armstrong','Elon','Muskl','American','Dumb Guy']\n",
    "new_names = ['Manoj ND','Neil Armstrong','Elon','Muskl','American','Dumb Guy']"
   ]
  },
  {
   "cell_type": "code",
   "execution_count": 40,
   "id": "f2b2c38c",
   "metadata": {},
   "outputs": [
    {
     "data": {
      "text/plain": [
       "5"
      ]
     },
     "execution_count": 40,
     "metadata": {},
     "output_type": "execute_result"
    }
   ],
   "source": [
    "len(names)"
   ]
  },
  {
   "cell_type": "code",
   "execution_count": 63,
   "id": "558b36a1",
   "metadata": {},
   "outputs": [],
   "source": [
    "def new_custom_welcome(name):\n",
    "    print('Welcome {}'.format(name))"
   ]
  },
  {
   "cell_type": "code",
   "execution_count": 43,
   "id": "8f4ab482",
   "metadata": {},
   "outputs": [],
   "source": [
    "def custom_welcome(name):\n",
    "    for i in range(len(name)):\n",
    "        print('Welcome {}'.format(name[i]))"
   ]
  },
  {
   "cell_type": "code",
   "execution_count": 44,
   "id": "918c8978",
   "metadata": {},
   "outputs": [
    {
     "name": "stdout",
     "output_type": "stream",
     "text": [
      "Welcome Neil Armstrong\n",
      "Welcome Elon\n",
      "Welcome Muskl\n",
      "Welcome American\n",
      "Welcome Dumb Guy\n"
     ]
    }
   ],
   "source": [
    "custom_welcome(names)"
   ]
  },
  {
   "cell_type": "code",
   "execution_count": 55,
   "id": "94eceb45",
   "metadata": {},
   "outputs": [],
   "source": [
    "def new_cust(first,last):\n",
    "    print('Welcome {} {}'.format(first,last))"
   ]
  },
  {
   "cell_type": "code",
   "execution_count": 57,
   "id": "ec8d6391",
   "metadata": {},
   "outputs": [
    {
     "name": "stdout",
     "output_type": "stream",
     "text": [
      "Welcome Manoj ND\n"
     ]
    }
   ],
   "source": [
    "new_cust('Manoj','ND')"
   ]
  },
  {
   "cell_type": "code",
   "execution_count": 56,
   "id": "6d3df402",
   "metadata": {},
   "outputs": [
    {
     "name": "stdout",
     "output_type": "stream",
     "text": [
      "Welcome Manoj ND\n"
     ]
    }
   ],
   "source": [
    "first_name='Manoj'\n",
    "last_name='ND'\n",
    "new_cust(first_name,last_name)"
   ]
  },
  {
   "cell_type": "code",
   "execution_count": 74,
   "id": "b53c5e53",
   "metadata": {},
   "outputs": [
    {
     "name": "stdout",
     "output_type": "stream",
     "text": [
      "Welcome Manoj ND\n",
      "Welcome Neil Armstrong\n",
      "Welcome Elon\n",
      "Welcome Muskl\n",
      "Welcome American\n",
      "Welcome Dumb Guy\n"
     ]
    }
   ],
   "source": [
    "for name in names:\n",
    "    custom_welcome(new_names)\n",
    "    break"
   ]
  },
  {
   "cell_type": "code",
   "execution_count": 75,
   "id": "c2162ba4",
   "metadata": {},
   "outputs": [],
   "source": [
    "def custom_welcome_to_ship(name,space_ship):\n",
    "    print('Welcome {} to the {} '.format(name, space_ship))"
   ]
  },
  {
   "cell_type": "code",
   "execution_count": 77,
   "id": "74880f0b",
   "metadata": {},
   "outputs": [
    {
     "name": "stdout",
     "output_type": "stream",
     "text": [
      "Welcome Manoj to the Earth \n"
     ]
    }
   ],
   "source": [
    "custom_welcome_to_ship('Manoj','Earth')"
   ]
  },
  {
   "cell_type": "code",
   "execution_count": 78,
   "id": "b7e130ea",
   "metadata": {},
   "outputs": [],
   "source": [
    "space_ship = ['Galactic 1','Glactic2','USS Voyages','maximum Amazon wow ship','Apple','Earth']"
   ]
  },
  {
   "cell_type": "code",
   "execution_count": 85,
   "id": "a6139ca9",
   "metadata": {},
   "outputs": [
    {
     "data": {
      "text/plain": [
       "'Galactic 1'"
      ]
     },
     "execution_count": 85,
     "metadata": {},
     "output_type": "execute_result"
    }
   ],
   "source": [
    "space_ship[0]"
   ]
  },
  {
   "cell_type": "code",
   "execution_count": 89,
   "id": "3e352961",
   "metadata": {
    "scrolled": true
   },
   "outputs": [
    {
     "name": "stdout",
     "output_type": "stream",
     "text": [
      "Welcome Manoj ND to the Galactic 1 \n",
      "Welcome Neil Armstrong to the Glactic2 \n",
      "Welcome Elon to the USS Voyages \n",
      "Welcome Muskl to the maximum Amazon wow ship \n",
      "Welcome American to the Apple \n",
      "Welcome Dumb Guy to the Earth \n"
     ]
    }
   ],
   "source": [
    "#used the enumerate function to get the positional index and the name\n",
    "\n",
    "for idx,name in enumerate(new_names):\n",
    "    ship = space_ship[idx]\n",
    "    custom_welcome_to_ship(name,ship)\n",
    "\n",
    "    "
   ]
  },
  {
   "cell_type": "code",
   "execution_count": 94,
   "id": "12cb8efc",
   "metadata": {},
   "outputs": [
    {
     "name": "stdout",
     "output_type": "stream",
     "text": [
      "<function <lambda> at 0x000001ADD36261F0>\n"
     ]
    }
   ],
   "source": [
    "#Lambda function --anonymous function\n",
    "pi = lambda x:x*3.14\n",
    "print(pi)"
   ]
  },
  {
   "cell_type": "code",
   "execution_count": 99,
   "id": "856bbd40",
   "metadata": {},
   "outputs": [
    {
     "name": "stdout",
     "output_type": "stream",
     "text": [
      "3.14\n"
     ]
    }
   ],
   "source": [
    "value= pi(1)\n",
    "print(value)"
   ]
  },
  {
   "cell_type": "code",
   "execution_count": 103,
   "id": "663cef6a",
   "metadata": {},
   "outputs": [],
   "source": [
    "class Person():\n",
    "    #The method that runs as soon as we create a new instance of class.\n",
    "    def __init__(self, name, age, color):\n",
    "        #Create some attributes for our Person class\n",
    "        self.name = name\n",
    "        self.age = age\n",
    "        self.color = color"
   ]
  },
  {
   "cell_type": "code",
   "execution_count": 104,
   "id": "6ee87302",
   "metadata": {},
   "outputs": [
    {
     "data": {
      "text/plain": [
       "<__main__.Person at 0x1add3631d00>"
      ]
     },
     "execution_count": 104,
     "metadata": {},
     "output_type": "execute_result"
    }
   ],
   "source": [
    "#Creating an instance of the class\n",
    "new_person = Person('Manoj', 24, 'Brown')\n",
    "new_person"
   ]
  },
  {
   "cell_type": "code",
   "execution_count": 105,
   "id": "941001ee",
   "metadata": {},
   "outputs": [
    {
     "name": "stdout",
     "output_type": "stream",
     "text": [
      "Manoj\n",
      "24\n",
      "Brown\n"
     ]
    }
   ],
   "source": [
    "#Accessing the class attribute\n",
    "print(new_person.name)\n",
    "print(new_person.age)\n",
    "print(new_person.color)"
   ]
  },
  {
   "cell_type": "code",
   "execution_count": 110,
   "id": "6278a8f6",
   "metadata": {},
   "outputs": [],
   "source": [
    "class Dabbaclass():\n",
    "    def __init__(self,name, age):\n",
    "        self.name=name\n",
    "        self.age=age\n"
   ]
  },
  {
   "cell_type": "code",
   "execution_count": 115,
   "id": "d19d7406",
   "metadata": {},
   "outputs": [
    {
     "name": "stdout",
     "output_type": "stream",
     "text": [
      "MANOJ\n",
      "24\n"
     ]
    }
   ],
   "source": [
    "\n",
    "p1 = Dabbaclass('MANOJ',24)\n",
    "print(p1.name)\n",
    "print(p1.age)"
   ]
  },
  {
   "cell_type": "code",
   "execution_count": 169,
   "id": "5681815b",
   "metadata": {},
   "outputs": [],
   "source": [
    "###classes\n",
    "\n",
    "class Newclass():\n",
    "    def __init__(self, place, city,age):\n",
    "        self.place = place\n",
    "        self.city  = city\n",
    "        self.age = age\n",
    "        \n",
    "# Date of birth metion\n",
    "    def year_of_birth(self):\n",
    "        return 2022-self.age\n",
    "        \n",
    "#projected age\n",
    "    def project_age(self, years=500):\n",
    "        return self.age+years\n",
    "        "
   ]
  },
  {
   "cell_type": "code",
   "execution_count": 135,
   "id": "5e1dfbf9",
   "metadata": {},
   "outputs": [],
   "source": [
    "p1 = Newclass('Magadi','Ramanagar',24)"
   ]
  },
  {
   "cell_type": "code",
   "execution_count": 136,
   "id": "a88d0684",
   "metadata": {},
   "outputs": [
    {
     "data": {
      "text/plain": [
       "24"
      ]
     },
     "execution_count": 136,
     "metadata": {},
     "output_type": "execute_result"
    }
   ],
   "source": [
    "#accessing the class attribbute\n",
    "p1.age"
   ]
  },
  {
   "cell_type": "code",
   "execution_count": 137,
   "id": "e2c5bda4",
   "metadata": {},
   "outputs": [
    {
     "data": {
      "text/plain": [
       "1998"
      ]
     },
     "execution_count": 137,
     "metadata": {},
     "output_type": "execute_result"
    }
   ],
   "source": [
    "p1.year_of_birth()"
   ]
  },
  {
   "cell_type": "code",
   "execution_count": 138,
   "id": "7b725e25",
   "metadata": {},
   "outputs": [
    {
     "data": {
      "text/plain": [
       "524"
      ]
     },
     "execution_count": 138,
     "metadata": {},
     "output_type": "execute_result"
    }
   ],
   "source": [
    "p1.project_age()"
   ]
  },
  {
   "cell_type": "code",
   "execution_count": 176,
   "id": "f441b7df",
   "metadata": {},
   "outputs": [],
   "source": [
    "#Inheritence--\n",
    "#Paarent is the class passinng down attributes and methods\n",
    "#Child is the calss inheriting the methods annd attributes\n",
    "\n",
    "\n",
    "class Asturanut(Person):\n",
    "        #define initialization function\n",
    "        def __init__(self, name, age, color, mission_length_in_months):\n",
    "            #this is what gives us inheritance --super method\n",
    "            super().__init__(name, age,color)\n",
    "            self.mission_length_in_months =  mission_length_in_months\n",
    "        \n",
    "        def age_on_return(self):\n",
    "            return self.mission_length_in_months/12"
   ]
  },
  {
   "cell_type": "code",
   "execution_count": 177,
   "id": "0a4e4067",
   "metadata": {},
   "outputs": [],
   "source": [
    "new_asturanut = Asturanut('Manoj',24,'Brown',1000)"
   ]
  },
  {
   "cell_type": "code",
   "execution_count": 178,
   "id": "1a3b5b6b",
   "metadata": {},
   "outputs": [
    {
     "data": {
      "text/plain": [
       "'Manoj'"
      ]
     },
     "execution_count": 178,
     "metadata": {},
     "output_type": "execute_result"
    }
   ],
   "source": [
    "#Calling the name from the class\n",
    "new_asturanut.name"
   ]
  },
  {
   "cell_type": "code",
   "execution_count": 179,
   "id": "98903736",
   "metadata": {},
   "outputs": [
    {
     "data": {
      "text/plain": [
       "83.33333333333333"
      ]
     },
     "execution_count": 179,
     "metadata": {},
     "output_type": "execute_result"
    }
   ],
   "source": [
    "#To run the another definition from the class\n",
    "new_asturanut.age_on_return()"
   ]
  },
  {
   "cell_type": "code",
   "execution_count": null,
   "id": "5f7c0491",
   "metadata": {},
   "outputs": [],
   "source": []
  }
 ],
 "metadata": {
  "kernelspec": {
   "display_name": "Python 3 (ipykernel)",
   "language": "python",
   "name": "python3"
  },
  "language_info": {
   "codemirror_mode": {
    "name": "ipython",
    "version": 3
   },
   "file_extension": ".py",
   "mimetype": "text/x-python",
   "name": "python",
   "nbconvert_exporter": "python",
   "pygments_lexer": "ipython3",
   "version": "3.8.8"
  }
 },
 "nbformat": 4,
 "nbformat_minor": 5
}
