{
 "cells": [
  {
   "cell_type": "code",
   "execution_count": 1,
   "id": "8abf7a4f",
   "metadata": {},
   "outputs": [],
   "source": [
    "import pandas as pd \n",
    "import numpy as np\n",
    "#To do train test split at first\n",
    "from  sklearn.model_selection import train_test_split\n",
    "#To do cross validation\n",
    "from sklearn.model_selection import cross_val_score\n",
    "\n",
    "#Important Classification algorithm\n",
    "from sklearn.linear_model import LogisticRegression \n",
    "from sklearn.ensemble import RandomForestClassifier\n",
    "from sklearn.neighbors import KNeighborsClassifier\n",
    "from sklearn.svm import SVC #Support vector classifier\n",
    "from sklearn.tree import DecisionTreeClassifier\n"
   ]
  },
  {
   "cell_type": "code",
   "execution_count": 2,
   "id": "398511e0",
   "metadata": {},
   "outputs": [],
   "source": [
    "#To evoluate the model in logistic regression\n",
    "from sklearn.metrics import accuracy_score"
   ]
  },
  {
   "cell_type": "code",
   "execution_count": 3,
   "id": "028a077d",
   "metadata": {},
   "outputs": [
    {
     "data": {
      "text/html": [
       "<div>\n",
       "<style scoped>\n",
       "    .dataframe tbody tr th:only-of-type {\n",
       "        vertical-align: middle;\n",
       "    }\n",
       "\n",
       "    .dataframe tbody tr th {\n",
       "        vertical-align: top;\n",
       "    }\n",
       "\n",
       "    .dataframe thead th {\n",
       "        text-align: right;\n",
       "    }\n",
       "</style>\n",
       "<table border=\"1\" class=\"dataframe\">\n",
       "  <thead>\n",
       "    <tr style=\"text-align: right;\">\n",
       "      <th></th>\n",
       "      <th>Pregnancies</th>\n",
       "      <th>Glucose</th>\n",
       "      <th>BloodPressure</th>\n",
       "      <th>SkinThickness</th>\n",
       "      <th>Insulin</th>\n",
       "      <th>BMI</th>\n",
       "      <th>DiabetesPedigreeFunction</th>\n",
       "      <th>Age</th>\n",
       "      <th>Outcome</th>\n",
       "    </tr>\n",
       "  </thead>\n",
       "  <tbody>\n",
       "    <tr>\n",
       "      <th>0</th>\n",
       "      <td>6</td>\n",
       "      <td>148</td>\n",
       "      <td>72</td>\n",
       "      <td>35</td>\n",
       "      <td>0</td>\n",
       "      <td>33.6</td>\n",
       "      <td>0.627</td>\n",
       "      <td>50</td>\n",
       "      <td>1</td>\n",
       "    </tr>\n",
       "    <tr>\n",
       "      <th>1</th>\n",
       "      <td>1</td>\n",
       "      <td>85</td>\n",
       "      <td>66</td>\n",
       "      <td>29</td>\n",
       "      <td>0</td>\n",
       "      <td>26.6</td>\n",
       "      <td>0.351</td>\n",
       "      <td>31</td>\n",
       "      <td>0</td>\n",
       "    </tr>\n",
       "    <tr>\n",
       "      <th>2</th>\n",
       "      <td>8</td>\n",
       "      <td>183</td>\n",
       "      <td>64</td>\n",
       "      <td>0</td>\n",
       "      <td>0</td>\n",
       "      <td>23.3</td>\n",
       "      <td>0.672</td>\n",
       "      <td>32</td>\n",
       "      <td>1</td>\n",
       "    </tr>\n",
       "    <tr>\n",
       "      <th>3</th>\n",
       "      <td>1</td>\n",
       "      <td>89</td>\n",
       "      <td>66</td>\n",
       "      <td>23</td>\n",
       "      <td>94</td>\n",
       "      <td>28.1</td>\n",
       "      <td>0.167</td>\n",
       "      <td>21</td>\n",
       "      <td>0</td>\n",
       "    </tr>\n",
       "    <tr>\n",
       "      <th>4</th>\n",
       "      <td>0</td>\n",
       "      <td>137</td>\n",
       "      <td>40</td>\n",
       "      <td>35</td>\n",
       "      <td>168</td>\n",
       "      <td>43.1</td>\n",
       "      <td>2.288</td>\n",
       "      <td>33</td>\n",
       "      <td>1</td>\n",
       "    </tr>\n",
       "  </tbody>\n",
       "</table>\n",
       "</div>"
      ],
      "text/plain": [
       "   Pregnancies  Glucose  BloodPressure  SkinThickness  Insulin   BMI  \\\n",
       "0            6      148             72             35        0  33.6   \n",
       "1            1       85             66             29        0  26.6   \n",
       "2            8      183             64              0        0  23.3   \n",
       "3            1       89             66             23       94  28.1   \n",
       "4            0      137             40             35      168  43.1   \n",
       "\n",
       "   DiabetesPedigreeFunction  Age  Outcome  \n",
       "0                     0.627   50        1  \n",
       "1                     0.351   31        0  \n",
       "2                     0.672   32        1  \n",
       "3                     0.167   21        0  \n",
       "4                     2.288   33        1  "
      ]
     },
     "execution_count": 3,
     "metadata": {},
     "output_type": "execute_result"
    }
   ],
   "source": [
    "dia_df = pd.read_csv(r'G:\\Data analyst by Shashank\\Project DATA_SETS\\diabetes.csv')\n",
    "dia_df.head()"
   ]
  },
  {
   "cell_type": "code",
   "execution_count": 4,
   "id": "509d0190",
   "metadata": {},
   "outputs": [
    {
     "data": {
      "text/html": [
       "<div>\n",
       "<style scoped>\n",
       "    .dataframe tbody tr th:only-of-type {\n",
       "        vertical-align: middle;\n",
       "    }\n",
       "\n",
       "    .dataframe tbody tr th {\n",
       "        vertical-align: top;\n",
       "    }\n",
       "\n",
       "    .dataframe thead th {\n",
       "        text-align: right;\n",
       "    }\n",
       "</style>\n",
       "<table border=\"1\" class=\"dataframe\">\n",
       "  <thead>\n",
       "    <tr style=\"text-align: right;\">\n",
       "      <th></th>\n",
       "      <th>Pregnancies</th>\n",
       "      <th>Glucose</th>\n",
       "      <th>BloodPressure</th>\n",
       "      <th>SkinThickness</th>\n",
       "      <th>Insulin</th>\n",
       "      <th>BMI</th>\n",
       "      <th>DiabetesPedigreeFunction</th>\n",
       "      <th>Age</th>\n",
       "      <th>Outcome</th>\n",
       "    </tr>\n",
       "  </thead>\n",
       "  <tbody>\n",
       "    <tr>\n",
       "      <th>count</th>\n",
       "      <td>768.000000</td>\n",
       "      <td>768.000000</td>\n",
       "      <td>768.000000</td>\n",
       "      <td>768.000000</td>\n",
       "      <td>768.000000</td>\n",
       "      <td>768.000000</td>\n",
       "      <td>768.000000</td>\n",
       "      <td>768.000000</td>\n",
       "      <td>768.000000</td>\n",
       "    </tr>\n",
       "    <tr>\n",
       "      <th>mean</th>\n",
       "      <td>3.845052</td>\n",
       "      <td>120.894531</td>\n",
       "      <td>69.105469</td>\n",
       "      <td>20.536458</td>\n",
       "      <td>79.799479</td>\n",
       "      <td>31.992578</td>\n",
       "      <td>0.471876</td>\n",
       "      <td>33.240885</td>\n",
       "      <td>0.348958</td>\n",
       "    </tr>\n",
       "    <tr>\n",
       "      <th>std</th>\n",
       "      <td>3.369578</td>\n",
       "      <td>31.972618</td>\n",
       "      <td>19.355807</td>\n",
       "      <td>15.952218</td>\n",
       "      <td>115.244002</td>\n",
       "      <td>7.884160</td>\n",
       "      <td>0.331329</td>\n",
       "      <td>11.760232</td>\n",
       "      <td>0.476951</td>\n",
       "    </tr>\n",
       "    <tr>\n",
       "      <th>min</th>\n",
       "      <td>0.000000</td>\n",
       "      <td>0.000000</td>\n",
       "      <td>0.000000</td>\n",
       "      <td>0.000000</td>\n",
       "      <td>0.000000</td>\n",
       "      <td>0.000000</td>\n",
       "      <td>0.078000</td>\n",
       "      <td>21.000000</td>\n",
       "      <td>0.000000</td>\n",
       "    </tr>\n",
       "    <tr>\n",
       "      <th>25%</th>\n",
       "      <td>1.000000</td>\n",
       "      <td>99.000000</td>\n",
       "      <td>62.000000</td>\n",
       "      <td>0.000000</td>\n",
       "      <td>0.000000</td>\n",
       "      <td>27.300000</td>\n",
       "      <td>0.243750</td>\n",
       "      <td>24.000000</td>\n",
       "      <td>0.000000</td>\n",
       "    </tr>\n",
       "    <tr>\n",
       "      <th>50%</th>\n",
       "      <td>3.000000</td>\n",
       "      <td>117.000000</td>\n",
       "      <td>72.000000</td>\n",
       "      <td>23.000000</td>\n",
       "      <td>30.500000</td>\n",
       "      <td>32.000000</td>\n",
       "      <td>0.372500</td>\n",
       "      <td>29.000000</td>\n",
       "      <td>0.000000</td>\n",
       "    </tr>\n",
       "    <tr>\n",
       "      <th>75%</th>\n",
       "      <td>6.000000</td>\n",
       "      <td>140.250000</td>\n",
       "      <td>80.000000</td>\n",
       "      <td>32.000000</td>\n",
       "      <td>127.250000</td>\n",
       "      <td>36.600000</td>\n",
       "      <td>0.626250</td>\n",
       "      <td>41.000000</td>\n",
       "      <td>1.000000</td>\n",
       "    </tr>\n",
       "    <tr>\n",
       "      <th>max</th>\n",
       "      <td>17.000000</td>\n",
       "      <td>199.000000</td>\n",
       "      <td>122.000000</td>\n",
       "      <td>99.000000</td>\n",
       "      <td>846.000000</td>\n",
       "      <td>67.100000</td>\n",
       "      <td>2.420000</td>\n",
       "      <td>81.000000</td>\n",
       "      <td>1.000000</td>\n",
       "    </tr>\n",
       "  </tbody>\n",
       "</table>\n",
       "</div>"
      ],
      "text/plain": [
       "       Pregnancies     Glucose  BloodPressure  SkinThickness     Insulin  \\\n",
       "count   768.000000  768.000000     768.000000     768.000000  768.000000   \n",
       "mean      3.845052  120.894531      69.105469      20.536458   79.799479   \n",
       "std       3.369578   31.972618      19.355807      15.952218  115.244002   \n",
       "min       0.000000    0.000000       0.000000       0.000000    0.000000   \n",
       "25%       1.000000   99.000000      62.000000       0.000000    0.000000   \n",
       "50%       3.000000  117.000000      72.000000      23.000000   30.500000   \n",
       "75%       6.000000  140.250000      80.000000      32.000000  127.250000   \n",
       "max      17.000000  199.000000     122.000000      99.000000  846.000000   \n",
       "\n",
       "              BMI  DiabetesPedigreeFunction         Age     Outcome  \n",
       "count  768.000000                768.000000  768.000000  768.000000  \n",
       "mean    31.992578                  0.471876   33.240885    0.348958  \n",
       "std      7.884160                  0.331329   11.760232    0.476951  \n",
       "min      0.000000                  0.078000   21.000000    0.000000  \n",
       "25%     27.300000                  0.243750   24.000000    0.000000  \n",
       "50%     32.000000                  0.372500   29.000000    0.000000  \n",
       "75%     36.600000                  0.626250   41.000000    1.000000  \n",
       "max     67.100000                  2.420000   81.000000    1.000000  "
      ]
     },
     "execution_count": 4,
     "metadata": {},
     "output_type": "execute_result"
    }
   ],
   "source": [
    "dia_df.describe()"
   ]
  },
  {
   "cell_type": "code",
   "execution_count": 5,
   "id": "1e9a2a9d",
   "metadata": {},
   "outputs": [],
   "source": [
    "import seaborn as sns\n",
    "import matplotlib.pyplot as plt\n",
    "%matplotlib inline"
   ]
  },
  {
   "cell_type": "code",
   "execution_count": 6,
   "id": "cdf11d1e",
   "metadata": {},
   "outputs": [
    {
     "data": {
      "text/plain": [
       "Pregnancies                   int64\n",
       "Glucose                       int64\n",
       "BloodPressure                 int64\n",
       "SkinThickness                 int64\n",
       "Insulin                       int64\n",
       "BMI                         float64\n",
       "DiabetesPedigreeFunction    float64\n",
       "Age                           int64\n",
       "Outcome                       int64\n",
       "dtype: object"
      ]
     },
     "execution_count": 6,
     "metadata": {},
     "output_type": "execute_result"
    }
   ],
   "source": [
    "dia_df.dtypes\n",
    "#Checking the data types since all are float and int no worry"
   ]
  },
  {
   "cell_type": "code",
   "execution_count": 7,
   "id": "126c1691",
   "metadata": {
    "scrolled": true
   },
   "outputs": [
    {
     "data": {
      "text/plain": [
       "Pregnancies                 0\n",
       "Glucose                     0\n",
       "BloodPressure               0\n",
       "SkinThickness               0\n",
       "Insulin                     0\n",
       "BMI                         0\n",
       "DiabetesPedigreeFunction    0\n",
       "Age                         0\n",
       "Outcome                     0\n",
       "dtype: int64"
      ]
     },
     "execution_count": 7,
     "metadata": {},
     "output_type": "execute_result"
    }
   ],
   "source": [
    "dia_df.isnull().sum()\n",
    "#Checking the data is null since no data is null we are good to proceed with ML models"
   ]
  },
  {
   "cell_type": "code",
   "execution_count": 8,
   "id": "3c934787",
   "metadata": {},
   "outputs": [],
   "source": [
    "dia_corr = dia_df.corr()"
   ]
  },
  {
   "cell_type": "code",
   "execution_count": 9,
   "id": "7ab20361",
   "metadata": {},
   "outputs": [
    {
     "data": {
      "text/plain": [
       "<seaborn.axisgrid.PairGrid at 0x12ff92ddfd0>"
      ]
     },
     "execution_count": 9,
     "metadata": {},
     "output_type": "execute_result"
    },
    {
     "data": {
      "image/png": "[encoded data removed]",
      "text/plain": [
       "<Figure size 1620x1620 with 90 Axes>"
      ]
     },
     "metadata": {
      "needs_background": "light"
     },
     "output_type": "display_data"
    }
   ],
   "source": [
    "sns.pairplot(dia_corr)\n",
    "#sns.boxplot(x=dia_df['Pregnancies'], y=dia_df['Glucose'])\n"
   ]
  },
  {
   "cell_type": "code",
   "execution_count": 10,
   "id": "069ddc26",
   "metadata": {},
   "outputs": [
    {
     "data": {
      "text/plain": [
       "<AxesSubplot:xlabel='Age', ylabel='Insulin'>"
      ]
     },
     "execution_count": 10,
     "metadata": {},
     "output_type": "execute_result"
    },
    {
     "data": {
      "image/png": "[encoded data removed]",
      "text/plain": [
       "<Figure size 1296x576 with 1 Axes>"
      ]
     },
     "metadata": {
      "needs_background": "light"
     },
     "output_type": "display_data"
    }
   ],
   "source": [
    "#As we get age we need more insuline and more chance of diabetic is also possible\n",
    "plt.figure(figsize=(18,8))\n",
    "sns.boxplot(x=dia_df['Age'], y=dia_df['Insulin'], hue=dia_df['Outcome'])"
   ]
  },
  {
   "cell_type": "code",
   "execution_count": 11,
   "id": "287f4fea",
   "metadata": {},
   "outputs": [
    {
     "data": {
      "text/plain": [
       "0    500\n",
       "1    268\n",
       "Name: Outcome, dtype: int64"
      ]
     },
     "execution_count": 11,
     "metadata": {},
     "output_type": "execute_result"
    }
   ],
   "source": [
    "dia_df['Outcome'].value_counts()\n",
    "#Found that this model should be binary classification problem since no other value other then zero and 1"
   ]
  },
  {
   "cell_type": "code",
   "execution_count": 12,
   "id": "696e615d",
   "metadata": {},
   "outputs": [
    {
     "name": "stdout",
     "output_type": "stream",
     "text": [
      "(768, 8)\n",
      "********************\n",
      "(768,)\n"
     ]
    }
   ],
   "source": [
    "x = dia_df.drop('Outcome', axis=1)\n",
    "y = dia_df['Outcome']\n",
    "print(x.shape)\n",
    "print('*'*20)\n",
    "print(y.shape)"
   ]
  },
  {
   "cell_type": "code",
   "execution_count": 13,
   "id": "28ab7b7c",
   "metadata": {},
   "outputs": [],
   "source": [
    "#Lets split the data in x and y and x will be out train and y is out prediction and it's a binary classification\n",
    "x_train, x_test, y_train, y_test = train_test_split(x, y, test_size=0.2, random_state=10)"
   ]
  },
  {
   "cell_type": "code",
   "execution_count": 14,
   "id": "5b39bbf0",
   "metadata": {},
   "outputs": [
    {
     "name": "stdout",
     "output_type": "stream",
     "text": [
      "X Training Data in rows (614, 8)\n",
      "X Testing data in rows (154, 8)\n",
      "******************************\n",
      "Y Training Data in rows (614,)\n",
      "Y Testing data in rows (154,)\n"
     ]
    }
   ],
   "source": [
    "print('X Training Data in rows',x_train.shape)\n",
    "print('X Testing data in rows', x_test.shape)\n",
    "print('***'*10)\n",
    "print('Y Training Data in rows',y_train.shape)\n",
    "print('Y Testing data in rows', y_test.shape)"
   ]
  },
  {
   "cell_type": "code",
   "execution_count": 15,
   "id": "4056152e",
   "metadata": {},
   "outputs": [],
   "source": [
    "from sklearn.pipeline import make_pipeline\n",
    "from sklearn.preprocessing import StandardScaler\n"
   ]
  },
  {
   "cell_type": "code",
   "execution_count": 16,
   "id": "14df3494",
   "metadata": {
    "scrolled": false
   },
   "outputs": [
    {
     "data": {
      "text/plain": [
       "Pipeline(steps=[('standardscaler', StandardScaler()),\n",
       "                ('logisticregression', LogisticRegression())])"
      ]
     },
     "execution_count": 16,
     "metadata": {},
     "output_type": "execute_result"
    }
   ],
   "source": [
    "pipe = make_pipeline(StandardScaler(), LogisticRegression())\n",
    "\n",
    "pipe.fit(x_train, y_train)  # apply scaling on training data\n",
    "#Pipeline created "
   ]
  },
  {
   "cell_type": "code",
   "execution_count": 17,
   "id": "09ab496c",
   "metadata": {},
   "outputs": [
    {
     "name": "stdout",
     "output_type": "stream",
     "text": [
      "Training Accuracy is : 0.7736156351791531\n",
      "Testing Accuracy is : 0.7662337662337663\n"
     ]
    }
   ],
   "source": [
    "train_acuracy = pipe.score(x_train, y_train)  # apply scaling on testing data, without leaking training data.\n",
    "print('Training Accuracy is :',train_acuracy)\n",
    "test_acuracy = pipe.score(x_test, y_test)  # apply scaling on testing data, without leaking training data.\n",
    "print('Testing Accuracy is :',test_acuracy)\n",
    "\n",
    "#Lets see other algorithms:)"
   ]
  },
  {
   "cell_type": "markdown",
   "id": "0bdec252",
   "metadata": {},
   "source": [
    "from sklearn.ensemble import RandomForestClassifier\n",
    "from sklearn.neighbors import KNeighborsClassifier\n",
    "from sklearn import svm\n",
    "from sklearn.tree import DecisionTreeClassifier"
   ]
  },
  {
   "cell_type": "code",
   "execution_count": 18,
   "id": "c67855d5",
   "metadata": {},
   "outputs": [
    {
     "data": {
      "text/plain": [
       "array([0, 0, 1, 0, 1, 0, 0, 1, 0, 0, 0, 0, 1, 0, 0, 1, 1, 0, 0, 1, 1, 1,\n",
       "       0, 0, 1, 1, 0, 0, 1, 1, 0, 0, 0, 0, 1, 0, 0, 0, 1, 0, 1, 0, 1, 0,\n",
       "       1, 0, 0, 0, 0, 1, 0, 1, 1, 1, 0, 0, 0, 1, 0, 0, 0, 0, 0, 0, 0, 0,\n",
       "       1, 0, 0, 1, 0, 1, 0, 1, 0, 0, 0, 1, 0, 0, 0, 1, 0, 0, 1, 1, 0, 0,\n",
       "       1, 0, 0, 0, 0, 0, 0, 0, 1, 0, 1, 1, 0, 0, 1, 1, 0, 0, 1, 1, 1, 0,\n",
       "       0, 0, 0, 0, 1, 0, 0, 0, 0, 1, 0, 0, 0, 0, 1, 1, 0, 0, 1, 0, 1, 0,\n",
       "       1, 0, 0, 0, 0, 1, 1, 1, 1, 0, 0, 0, 1, 0, 1, 0, 1, 0, 0, 0, 0, 0],\n",
       "      dtype=int64)"
      ]
     },
     "execution_count": 18,
     "metadata": {},
     "output_type": "execute_result"
    }
   ],
   "source": [
    "# 2nd is Decision tree classifier\n",
    "dtc = DecisionTreeClassifier()\n",
    "dtc.fit(x_train, y_train)\n",
    "dtc.predict(x_test)\n"
   ]
  },
  {
   "cell_type": "code",
   "execution_count": 19,
   "id": "10e312a0",
   "metadata": {},
   "outputs": [
    {
     "data": {
      "text/plain": [
       "Pipeline(steps=[('standardscaler', StandardScaler()),\n",
       "                ('decisiontreeclassifier', DecisionTreeClassifier())])"
      ]
     },
     "execution_count": 19,
     "metadata": {},
     "output_type": "execute_result"
    }
   ],
   "source": [
    "pipe1 = make_pipeline(StandardScaler(), DecisionTreeClassifier())\n",
    "pipe1.fit(x_train, y_train)  # apply scaling on training data\n",
    "\n",
    "#DecisionTree Classifier"
   ]
  },
  {
   "cell_type": "code",
   "execution_count": 20,
   "id": "8a8bd562",
   "metadata": {},
   "outputs": [
    {
     "name": "stdout",
     "output_type": "stream",
     "text": [
      "Training Accuracy is : 1.0\n",
      "Testing Accuracy is : 0.7272727272727273\n"
     ]
    }
   ],
   "source": [
    "train_acuracy = pipe1.score(x_train, y_train)  # apply scaling on testing data, without leaking training data.\n",
    "print('Training Accuracy is :',train_acuracy)\n",
    "test_acuracy = pipe1.score(x_test, y_test)  # apply scaling on testing data, without leaking training data.\n",
    "print('Testing Accuracy is :',test_acuracy)\n",
    "#It's overfitted Now"
   ]
  },
  {
   "cell_type": "code",
   "execution_count": 21,
   "id": "e1702020",
   "metadata": {},
   "outputs": [
    {
     "data": {
      "text/plain": [
       "Pipeline(steps=[('randomforestclassifier', RandomForestClassifier())])"
      ]
     },
     "execution_count": 21,
     "metadata": {},
     "output_type": "execute_result"
    }
   ],
   "source": [
    "pipe2 = make_pipeline(RandomForestClassifier())\n",
    "pipe2.fit(x_train, y_train)  # apply scaling on training data\n",
    "#Now we will do Random Forest without StandardScaler()"
   ]
  },
  {
   "cell_type": "code",
   "execution_count": 22,
   "id": "bc7a8343",
   "metadata": {},
   "outputs": [
    {
     "name": "stdout",
     "output_type": "stream",
     "text": [
      "Training Accuracy is : 1.0\n",
      "Testing Accuracy is : 0.7532467532467533\n"
     ]
    }
   ],
   "source": [
    "train_acuracy = pipe2.score(x_train, y_train)  # apply scaling on testing data, without leaking training data.\n",
    "print('Training Accuracy is :',train_acuracy)\n",
    "test_acuracy = pipe2.score(x_test, y_test)  # apply scaling on testing data, without leaking training data.\n",
    "print('Testing Accuracy is :',test_acuracy)"
   ]
  },
  {
   "cell_type": "code",
   "execution_count": 23,
   "id": "b67bcf0a",
   "metadata": {},
   "outputs": [
    {
     "data": {
      "text/plain": [
       "Pipeline(steps=[('standardscaler', StandardScaler()),\n",
       "                ('randomforestclassifier', RandomForestClassifier())])"
      ]
     },
     "execution_count": 23,
     "metadata": {},
     "output_type": "execute_result"
    }
   ],
   "source": [
    "#Lets try with standard scaler \n",
    "\n",
    "\n",
    "pipe3 = make_pipeline(StandardScaler(),RandomForestClassifier())\n",
    "pipe3.fit(x_train, y_train)  # apply scaling on training data\n",
    "#Now we will do Random Forest without StandardScaler()"
   ]
  },
  {
   "cell_type": "code",
   "execution_count": 24,
   "id": "ea423cf0",
   "metadata": {},
   "outputs": [
    {
     "name": "stdout",
     "output_type": "stream",
     "text": [
      "Training Accuracy is : 1.0\n",
      "Testing Accuracy is : 0.7337662337662337\n"
     ]
    }
   ],
   "source": [
    "train_acuracy = pipe3.score(x_train, y_train)  # apply scaling on testing data, without leaking training data.\n",
    "print('Training Accuracy is :',train_acuracy)\n",
    "test_acuracy = pipe3.score(x_test, y_test)  # apply scaling on testing data, without leaking training data.\n",
    "print('Testing Accuracy is :',test_acuracy)\n",
    "#Acuracy is almost similar"
   ]
  },
  {
   "cell_type": "code",
   "execution_count": 25,
   "id": "f4831e5d",
   "metadata": {},
   "outputs": [
    {
     "data": {
      "text/plain": [
       "Pipeline(steps=[('standardscaler', StandardScaler()), ('svc', SVC())])"
      ]
     },
     "execution_count": 25,
     "metadata": {},
     "output_type": "execute_result"
    }
   ],
   "source": [
    "#Lets try with Support vector classifier\n",
    "pipe4 = make_pipeline(StandardScaler(),SVC())\n",
    "pipe4.fit(x_train, y_train)  # apply scaling on training data\n",
    "#Now we will do Random Forest without StandardScaler()"
   ]
  },
  {
   "cell_type": "code",
   "execution_count": 26,
   "id": "63d605b2",
   "metadata": {},
   "outputs": [
    {
     "name": "stdout",
     "output_type": "stream",
     "text": [
      "Training Accuracy is : 0.8403908794788274\n",
      "Testing Accuracy is : 0.7467532467532467\n"
     ]
    }
   ],
   "source": [
    "train_acuracy = pipe4.score(x_train, y_train)  # apply scaling on testing data, without leaking training data.\n",
    "print('Training Accuracy is :',train_acuracy)\n",
    "test_acuracy = pipe4.score(x_test, y_test)  # apply scaling on testing data, without leaking training data.\n",
    "print('Testing Accuracy is :',test_acuracy)\n",
    "#Acuracy is almost similar\n",
    "#Looks like SVC is also over fitted"
   ]
  },
  {
   "cell_type": "code",
   "execution_count": 27,
   "id": "769030b3",
   "metadata": {},
   "outputs": [],
   "source": [
    "#Lets do the hyper parameter optimization\n",
    "from sklearn.model_selection import GridSearchCV\n"
   ]
  },
  {
   "cell_type": "markdown",
   "id": "521fd65b",
   "metadata": {},
   "source": [
    "RandomForestClassifier()\n",
    "max_depth=None,\n",
    "    min_samples_split=2,\n",
    "    min_samples_leaf=1,\n",
    "    min_weight_fraction_leaf=0.0,\n",
    "    max_features='auto',\n",
    "    max_leaf_nodes=None,"
   ]
  },
  {
   "cell_type": "code",
   "execution_count": 57,
   "id": "13ebc871",
   "metadata": {},
   "outputs": [
    {
     "name": "stdout",
     "output_type": "stream",
     "text": [
      "{'n_estimators': [200, 400, 600, 800, 1000, 1200, 1400, 1600, 1800, 2000], 'criterion': ['gini', 'entropy'], 'max_depth': [10, 120, 230, 340, 450, 560, 670, 780, 890, 1000], 'min_samples_split': [3, 5, 8, 10], 'min_samples_leaf': [3, 5, 8, 10]}\n"
     ]
    }
   ],
   "source": [
    "param_grid = { 'n_estimators' : [int(x) for x in np.linspace(start=200,stop=2000,num=10)],\n",
    "              'criterion' :['gini','entropy'],\n",
    "            'max_depth' : [int(x) for x in np.linspace(start=10, stop=1000,num=10)],\n",
    "              'min_samples_split' : [3,5,8,10],\n",
    "              'min_samples_leaf' : [3,5,8,10]\n",
    "             }\n",
    "print(param_grid)"
   ]
  },
  {
   "cell_type": "markdown",
   "id": "b96d0ae8",
   "metadata": {},
   "source": [
    "rfc = RandomForestClassifier()\n",
    "\n",
    "rfc_randomcv = GridSearchCV(estimator =rfc, param_grid=param_grid, n_jobs=-1,cv=3,verbose=2)\n",
    "rfc_randomcv.fit(x_train,y_train)"
   ]
  },
  {
   "cell_type": "markdown",
   "id": "90b80d32",
   "metadata": {},
   "source": [
    "best_params_"
   ]
  },
  {
   "cell_type": "code",
   "execution_count": 58,
   "id": "c191fef2",
   "metadata": {},
   "outputs": [],
   "source": [
    "from sklearn.model_selection import RandomizedSearchCV\n"
   ]
  },
  {
   "cell_type": "code",
   "execution_count": 59,
   "id": "6d6bce70",
   "metadata": {},
   "outputs": [
    {
     "name": "stdout",
     "output_type": "stream",
     "text": [
      "Fitting 5 folds for each of 100 candidates, totalling 500 fits\n"
     ]
    },
    {
     "data": {
      "text/plain": [
       "RandomizedSearchCV(cv=5, estimator=RandomForestClassifier(), n_iter=100,\n",
       "                   n_jobs=-1,\n",
       "                   param_distributions={'criterion': ['gini', 'entropy'],\n",
       "                                        'max_depth': [10, 120, 230, 340, 450,\n",
       "                                                      560, 670, 780, 890,\n",
       "                                                      1000],\n",
       "                                        'min_samples_leaf': [3, 5, 8, 10],\n",
       "                                        'min_samples_split': [3, 5, 8, 10],\n",
       "                                        'n_estimators': [200, 400, 600, 800,\n",
       "                                                         1000, 1200, 1400, 1600,\n",
       "                                                         1800, 2000]},\n",
       "                   random_state=100, verbose=2)"
      ]
     },
     "execution_count": 59,
     "metadata": {},
     "output_type": "execute_result"
    }
   ],
   "source": [
    "rfc = RandomForestClassifier()\n",
    "rfc_randomcv  = RandomizedSearchCV(estimator=rfc,param_distributions=param_grid,n_iter=100,n_jobs=-1,cv=5,verbose=2,\n",
    "                                  random_state=100)\n",
    "rfc_randomcv.fit(x_train,y_train)"
   ]
  },
  {
   "cell_type": "code",
   "execution_count": 60,
   "id": "9f83bc5f",
   "metadata": {
    "scrolled": true
   },
   "outputs": [
    {
     "data": {
      "text/plain": [
       "{'n_estimators': 200,\n",
       " 'min_samples_split': 10,\n",
       " 'min_samples_leaf': 3,\n",
       " 'max_depth': 120,\n",
       " 'criterion': 'gini'}"
      ]
     },
     "execution_count": 60,
     "metadata": {},
     "output_type": "execute_result"
    }
   ],
   "source": [
    " rfc_randomcv.best_params_"
   ]
  },
  {
   "cell_type": "code",
   "execution_count": 61,
   "id": "7bd3bd83",
   "metadata": {},
   "outputs": [
    {
     "data": {
      "text/plain": [
       "RandomForestClassifier(max_depth=120, min_samples_leaf=3, min_samples_split=10,\n",
       "                       n_estimators=200)"
      ]
     },
     "execution_count": 61,
     "metadata": {},
     "output_type": "execute_result"
    }
   ],
   "source": [
    "rfc_randomcv.best_estimator_"
   ]
  },
  {
   "cell_type": "code",
   "execution_count": 62,
   "id": "947cb516",
   "metadata": {},
   "outputs": [],
   "source": [
    "best_random_fit = rfc_randomcv.best_estimator_"
   ]
  },
  {
   "cell_type": "code",
   "execution_count": 63,
   "id": "1a380cbe",
   "metadata": {},
   "outputs": [
    {
     "name": "stdout",
     "output_type": "stream",
     "text": [
      "[[88  7]\n",
      " [31 28]]\n",
      "Accuracy Score: 0.7532467532467533\n",
      "Classification Report:               precision    recall  f1-score   support\n",
      "\n",
      "           0       0.74      0.93      0.82        95\n",
      "           1       0.80      0.47      0.60        59\n",
      "\n",
      "    accuracy                           0.75       154\n",
      "   macro avg       0.77      0.70      0.71       154\n",
      "weighted avg       0.76      0.75      0.74       154\n",
      "\n"
     ]
    }
   ],
   "source": [
    "from sklearn.metrics import confusion_matrix,classification_report,accuracy_score\n",
    "y_pred = best_random_fit.predict(x_test)\n",
    "print(confusion_matrix(y_test,y_pred))\n",
    "print(\"Accuracy Score: {}\".format(accuracy_score(y_test,y_pred)))\n",
    "print(\"Classification Report: {}\".format(classification_report(y_test,y_pred)))"
   ]
  },
  {
   "cell_type": "code",
   "execution_count": 68,
   "id": "f9bfb574",
   "metadata": {},
   "outputs": [],
   "source": [
    "grid_search = {'n_estimators':[200],\n",
    " 'min_samples_split':[9,10,11,12],\n",
    " 'min_samples_leaf': [2,3,4,5],\n",
    " 'max_depth': [110,120,130],\n",
    " 'criterion': ['gini']  \n",
    "}"
   ]
  },
  {
   "cell_type": "code",
   "execution_count": 69,
   "id": "5fbd2cfc",
   "metadata": {},
   "outputs": [
    {
     "name": "stdout",
     "output_type": "stream",
     "text": [
      "Fitting 10 folds for each of 48 candidates, totalling 480 fits\n"
     ]
    },
    {
     "data": {
      "text/plain": [
       "GridSearchCV(cv=10, estimator=RandomForestClassifier(), n_jobs=-1,\n",
       "             param_grid={'criterion': ['gini'], 'max_depth': [110, 120, 130],\n",
       "                         'min_samples_leaf': [2, 3, 4, 5],\n",
       "                         'min_samples_split': [9, 10, 11, 12],\n",
       "                         'n_estimators': [200]},\n",
       "             verbose=2)"
      ]
     },
     "execution_count": 69,
     "metadata": {},
     "output_type": "execute_result"
    }
   ],
   "source": [
    "rfc_grid_search = GridSearchCV(estimator=rfc,param_grid=grid_search,cv=10, n_jobs=-1,verbose=2)\n",
    "rfc_grid_search.fit(x_train, y_train)"
   ]
  },
  {
   "cell_type": "code",
   "execution_count": 70,
   "id": "81363709",
   "metadata": {},
   "outputs": [
    {
     "data": {
      "text/plain": [
       "{'criterion': 'gini',\n",
       " 'max_depth': 110,\n",
       " 'min_samples_leaf': 3,\n",
       " 'min_samples_split': 9,\n",
       " 'n_estimators': 200}"
      ]
     },
     "execution_count": 70,
     "metadata": {},
     "output_type": "execute_result"
    }
   ],
   "source": [
    "rfc_grid_search.best_params_"
   ]
  },
  {
   "cell_type": "code",
   "execution_count": 72,
   "id": "205f3f4b",
   "metadata": {},
   "outputs": [
    {
     "data": {
      "text/plain": [
       "RandomForestClassifier(max_depth=110, min_samples_leaf=3, min_samples_split=9,\n",
       "                       n_estimators=200)"
      ]
     },
     "execution_count": 72,
     "metadata": {},
     "output_type": "execute_result"
    }
   ],
   "source": [
    "rfc_grid_search.best_estimator_"
   ]
  },
  {
   "cell_type": "code",
   "execution_count": 73,
   "id": "b7f580fa",
   "metadata": {},
   "outputs": [],
   "source": [
    "best_grid = rfc_grid_search.best_estimator_"
   ]
  },
  {
   "cell_type": "code",
   "execution_count": 74,
   "id": "c7e736d2",
   "metadata": {},
   "outputs": [
    {
     "name": "stdout",
     "output_type": "stream",
     "text": [
      "[[86  9]\n",
      " [29 30]]\n",
      "Accuracy Score: 0.7532467532467533\n",
      "Classification Report:               precision    recall  f1-score   support\n",
      "\n",
      "           0       0.75      0.91      0.82        95\n",
      "           1       0.77      0.51      0.61        59\n",
      "\n",
      "    accuracy                           0.75       154\n",
      "   macro avg       0.76      0.71      0.72       154\n",
      "weighted avg       0.76      0.75      0.74       154\n",
      "\n"
     ]
    }
   ],
   "source": [
    "y_pred = best_grid.predict(x_test)\n",
    "print(confusion_matrix(y_test,y_pred))\n",
    "print(\"Accuracy Score: {}\".format(accuracy_score(y_test,y_pred)))\n",
    "print(\"Classification Report: {}\".format(classification_report(y_test,y_pred)))"
   ]
  },
  {
   "cell_type": "code",
   "execution_count": 77,
   "id": "1fbdf582",
   "metadata": {},
   "outputs": [],
   "source": [
    "grid_search_dtc = {'random_state':[int(x) for x in np.linspace(10,200,10)],\n",
    " 'min_samples_split':[9,10,11,12],\n",
    " 'min_samples_leaf': [2,3,4,5],\n",
    " 'max_depth': [110,120,130],\n",
    " 'criterion': ['gini','entropy']  \n",
    "}"
   ]
  },
  {
   "cell_type": "code",
   "execution_count": 75,
   "id": "57f38cb0",
   "metadata": {},
   "outputs": [],
   "source": [
    "dtc = DecisionTreeClassifier()"
   ]
  },
  {
   "cell_type": "code",
   "execution_count": 78,
   "id": "3c36b617",
   "metadata": {},
   "outputs": [
    {
     "name": "stdout",
     "output_type": "stream",
     "text": [
      "Fitting 20 folds for each of 960 candidates, totalling 19200 fits\n"
     ]
    },
    {
     "data": {
      "text/plain": [
       "GridSearchCV(cv=20, estimator=DecisionTreeClassifier(), n_jobs=-1,\n",
       "             param_grid={'criterion': ['gini', 'entropy'],\n",
       "                         'max_depth': [110, 120, 130],\n",
       "                         'min_samples_leaf': [2, 3, 4, 5],\n",
       "                         'min_samples_split': [9, 10, 11, 12],\n",
       "                         'random_state': [10, 31, 52, 73, 94, 115, 136, 157,\n",
       "                                          178, 200]},\n",
       "             verbose=2)"
      ]
     },
     "execution_count": 78,
     "metadata": {},
     "output_type": "execute_result"
    }
   ],
   "source": [
    "rfc_grid_search = GridSearchCV(estimator=dtc,param_grid=grid_search_dtc,cv=20, n_jobs=-1,verbose=2)\n",
    "rfc_grid_search.fit(x_train, y_train)"
   ]
  },
  {
   "cell_type": "code",
   "execution_count": 79,
   "id": "42a3c4f2",
   "metadata": {},
   "outputs": [
    {
     "data": {
      "text/plain": [
       "{'criterion': 'entropy',\n",
       " 'max_depth': 110,\n",
       " 'min_samples_leaf': 3,\n",
       " 'min_samples_split': 11,\n",
       " 'random_state': 178}"
      ]
     },
     "execution_count": 79,
     "metadata": {},
     "output_type": "execute_result"
    }
   ],
   "source": [
    "rfc_grid_search.best_params_"
   ]
  },
  {
   "cell_type": "code",
   "execution_count": 80,
   "id": "9aa513a1",
   "metadata": {},
   "outputs": [
    {
     "data": {
      "text/plain": [
       "DecisionTreeClassifier(criterion='entropy', max_depth=110, min_samples_leaf=3,\n",
       "                       min_samples_split=11, random_state=178)"
      ]
     },
     "execution_count": 80,
     "metadata": {},
     "output_type": "execute_result"
    }
   ],
   "source": [
    "rfc_grid_search.best_estimator_"
   ]
  },
  {
   "cell_type": "code",
   "execution_count": 81,
   "id": "e30a143c",
   "metadata": {},
   "outputs": [
    {
     "name": "stdout",
     "output_type": "stream",
     "text": [
      "[[75 20]\n",
      " [27 32]]\n",
      "Accuracy Score: 0.6948051948051948\n",
      "Classification Report:               precision    recall  f1-score   support\n",
      "\n",
      "           0       0.74      0.79      0.76        95\n",
      "           1       0.62      0.54      0.58        59\n",
      "\n",
      "    accuracy                           0.69       154\n",
      "   macro avg       0.68      0.67      0.67       154\n",
      "weighted avg       0.69      0.69      0.69       154\n",
      "\n"
     ]
    }
   ],
   "source": [
    "rfc_dtc_best_model = rfc_grid_search.best_estimator_\n",
    "y_pred = rfc_dtc_best_model.predict(x_test)\n",
    "print(confusion_matrix(y_test,y_pred))\n",
    "print(\"Accuracy Score: {}\".format(accuracy_score(y_test,y_pred)))\n",
    "print(\"Classification Report: {}\".format(classification_report(y_test,y_pred)))"
   ]
  },
  {
   "cell_type": "code",
   "execution_count": null,
   "id": "b97933c1",
   "metadata": {},
   "outputs": [],
   "source": []
  }
 ],
 "metadata": {
  "kernelspec": {
   "display_name": "Python 3 (ipykernel)",
   "language": "python",
   "name": "python3"
  },
  "language_info": {
   "codemirror_mode": {
    "name": "ipython",
    "version": 3
   },
   "file_extension": ".py",
   "mimetype": "text/x-python",
   "name": "python",
   "nbconvert_exporter": "python",
   "pygments_lexer": "ipython3",
   "version": "3.8.8"
  }
 },
 "nbformat": 4,
 "nbformat_minor": 5
}
